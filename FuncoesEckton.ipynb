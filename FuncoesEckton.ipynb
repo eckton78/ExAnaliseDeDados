{
  "nbformat": 4,
  "nbformat_minor": 0,
  "metadata": {
    "kernelspec": {
      "display_name": "Python 3",
      "language": "python",
      "name": "python3"
    },
    "language_info": {
      "codemirror_mode": {
        "name": "ipython",
        "version": 3
      },
      "file_extension": ".py",
      "mimetype": "text/x-python",
      "name": "python",
      "nbconvert_exporter": "python",
      "pygments_lexer": "ipython3",
      "version": "3.7.4"
    },
    "colab": {
      "name": "FuncoesEckton",
      "provenance": [],
      "collapsed_sections": [],
      "include_colab_link": true
    }
  },
  "cells": [
    {
      "cell_type": "markdown",
      "metadata": {
        "id": "view-in-github",
        "colab_type": "text"
      },
      "source": [
        "<a href=\"https://colab.research.google.com/github/eckton78/ExAnaliseDeDados/blob/master/FuncoesEckton.ipynb\" target=\"_parent\"><img src=\"https://colab.research.google.com/assets/colab-badge.svg\" alt=\"Open In Colab\"/></a>"
      ]
    },
    {
      "cell_type": "markdown",
      "metadata": {
        "id": "mutbd33U8a9l",
        "colab_type": "text"
      },
      "source": [
        "# Funções\n",
        "\n",
        "Métodos são blocos de códigos reutilizáveis que realizam tarefas específicas dentro de um programa. Em Python, definimos funções usando a palavra-chave *def*, seguida pelo nome da função, a lista formal de parâmetros entre parêntesis, e, finalizando a assinatura do método com dois pontos (:). É importante lembrar que todas as instruções após a assinatura do método e que formam o corpo da função, devem ser identadas para funcionamento correto do código.\n",
        "\n",
        "```python\n",
        "def soma(a, b):\n",
        "    \"\"\"Retorna a soma de dois números inteiros\"\"\"\n",
        "    return a + b;\n",
        "\n",
        "\n",
        "# Exemplo de uso da função\n",
        "resultado_soma = soma(12, 15) \n",
        "print(resultado_soma) # Saída: 27\n",
        "\n",
        "```\n",
        "\n",
        "Você deve ter notado o comentário logo após a assinatura do método; este tipo de comentário é o que chamamos de *docstring*, e serve para documentarmos as funções para posteriormente, gerarmos automaticamente com auxílio de ferramentas, uma documentação online ou impressa do seu programa. Por isso, comente sempre seu código e escreva-o de maneira mais clara possível para que outras pessoas consigam ler e compreender facilmente o que seu código faz.\n",
        "\n",
        "## Declaração de Argumentos\n",
        "\n",
        "Existem 3 formas diferentes, que podem ser combinadas entre si, para definirmos funções com número variável de argumentos, são elas:\n",
        "\n",
        "**1. Valores Padrão de Argumento**: declaramos um valor padrão para um ou mais argumentos no seguinte formato: *\"arg = value\"*; de tal forma que damos a opção de não especificar valores para tais argumentos e usarmos os valores padrão definidos.\n",
        "\n",
        "```python\n",
        "def exibir_mensagem(mensagem, cortar_apos = 4):\n",
        "    print(message[:cortar_apos]\n",
        "\n",
        "# Exemplo de uso da função\n",
        "exibir_mensagem(\"mensagem\")     # Saída: mens\n",
        "exibir_mensagem(\"mensagem\", 6)  # Saída: mensag\n",
        "```\n",
        "\n",
        "**2. Argumentos por Palavras-Chave**: semelhante a técnica anterior, argumentos por palavra-chave nós declaramos os argumentos no formato *\"arg = value\"*, lembrando que em uma chamada de função as variáveis passadas como parâmetro devem seguir a mesma ordem dos argumentos na assinatura do método.\n",
        "\n",
        "```python\n",
        "def desenha_retangulo(x, y, width = 800, height = 600):\n",
        "    # Instruções\n",
        "    \n",
        "# Exemplo de uso da função\n",
        "desenha_retangulo(0, 0)                               # Argumento por posição usando valores padrão do restante \n",
        "desenha_retangulo(0, 0, width = 1280)                 # Argumento com uma palavra-chave\n",
        "desenha_retangulo(0, 0, width = 1280, height = 1024)  # Argumento com duas palavras-chave\n",
        "desenha_retangulo()                                   # Erro: required argument missing\n",
        "desenha_retangulo(color = \"#CCCCCC\")                  # Erro: argumento por palavra-chave desconhecido\n",
        "desenha_retangulo(0, 0, x = 200, y = 300)             # Erro: valores duplicados par ao mesmo argumento\n",
        "\n",
        "```\n",
        "\n",
        "**3. Listas de Argumentos Arbitrários**: o Python permite você criar listas de argumentos com tamanho variável, de forma que toda vez que você chamar a função você possa especificar qualquer quantidade de argumentos que serão empacotados em uma variável do tipo tupla.\n",
        "\n",
        "```python\n",
        "# O último argumento é marcado com uma asterisco \n",
        "# para indicar que após os dois primeiros parâmetros\n",
        "# qualquer dado enviado para a função será empacotado em uma tupla.\n",
        "def nome_funcao(primeiro_arg, segundo_arg, *restante):\n",
        "    # Instruções\n",
        "    \n",
        "```\n",
        "\n",
        "## Passagem por Valor ou Por Referência?\n",
        "\n",
        "Em Python, objetos passados como argumentos para as funções são passados por *referência*, ou seja, não é feita uma cópia deles para o corpo da função. Desta forma, quando passamos uma lista enorme como argumento, não haverá a cópia  de todos os seus itens para um novo local em memória. Não se esqueça que até mesmo números inteiros são objetos para o Python. \n",
        "\n",
        "Ao passar objetos mutáveis (p. ex: listas e dicionários) como parâmetro, eles podem ser alterados pela função que os chamou e as alterações são visíveis para a função chamadora. Já os objetos imutáveis (p. ex: inteiros e strings), não podem ser alterados pela função chamada, logo, a função chamadora pode ter certeza de que a função chamada não irá alterar os valores das variáveis.\n"
      ]
    },
    {
      "cell_type": "markdown",
      "metadata": {
        "id": "-wE0PrLw8a9p",
        "colab_type": "text"
      },
      "source": [
        "## Exercícios"
      ]
    },
    {
      "cell_type": "markdown",
      "metadata": {
        "id": "2GLpoq668a9q",
        "colab_type": "text"
      },
      "source": [
        "1. Faça um programa contendo o método `verifica(numero)` que retorne 1 se o número digitado for positivo ou 0 se for negativo."
      ]
    },
    {
      "cell_type": "code",
      "metadata": {
        "id": "z0NNsWPT8a9r",
        "colab_type": "code",
        "outputId": "7ad9a871-a5c6-4803-a6ad-59418d538c4a",
        "colab": {
          "base_uri": "https://localhost:8080/",
          "height": 51
        }
      },
      "source": [
        "num = float(input(\"Digite um numero: \"))\n",
        "def positivo(num):\n",
        "  if num >=0:\n",
        "    print(1)\n",
        "  else:\n",
        "    print(0)\n",
        "positivo(num)    "
      ],
      "execution_count": 0,
      "outputs": [
        {
          "output_type": "stream",
          "text": [
            "Digite um numero: 1\n",
            "1\n"
          ],
          "name": "stdout"
        }
      ]
    },
    {
      "cell_type": "markdown",
      "metadata": {
        "id": "X620EHrf8a9w",
        "colab_type": "text"
      },
      "source": [
        "2. Faça um programa contendo o método `somar(inicio, fim)` que receba dois números inteiros positivos como parâmetro e retorne a soma dos N números inteiros existentes entre eles. Ou seja, os parâmetros são exclusives, ou seja, os valores de início e fim não aparecerão no resultado."
      ]
    },
    {
      "cell_type": "code",
      "metadata": {
        "id": "OHfJxpXw8a9x",
        "colab_type": "code",
        "outputId": "73262956-f8e5-4ecb-d2f5-54aa818fe7d4",
        "colab": {
          "base_uri": "https://localhost:8080/",
          "height": 34
        }
      },
      "source": [
        "def somar (inicio, fim):\n",
        "  soma = 0 \n",
        "  for i in range((inicio + 1), fim):\n",
        "    soma += i \n",
        "  return soma\n",
        "\n",
        "print(somar(2, 6))"
      ],
      "execution_count": 0,
      "outputs": [
        {
          "output_type": "stream",
          "text": [
            "12\n"
          ],
          "name": "stdout"
        }
      ]
    },
    {
      "cell_type": "markdown",
      "metadata": {
        "id": "j6pi-0AH8a91",
        "colab_type": "text"
      },
      "source": [
        "3. Faça um programa contendo o método `divisores(a, b, c)` que receba três números inteiros a, b e c, sendo a maior que 1. A função deverá somar todos os inteiros entre b e c que sejam divisíveis por a (inclusive b e c) e retornar o resultado da soma para ser impresso."
      ]
    },
    {
      "cell_type": "code",
      "metadata": {
        "id": "9K95auDL8a92",
        "colab_type": "code",
        "outputId": "56140ffb-f5e4-4efb-f9e9-a1df785c89b0",
        "colab": {
          "base_uri": "https://localhost:8080/",
          "height": 68
        }
      },
      "source": [
        "a = float(input(\"digite a:\"))\n",
        "b = float(input(\"digite b:\"))\n",
        "c = float(input(\"digite c:\"))\n",
        "def div(a,b,c):\n",
        "  soma = 0 \n",
        "  if a > 1:\n",
        "    for i in range(b, (c + 1)):\n",
        "      resto = i % a\n",
        "      if resto == 0:\n",
        "        soma = soma + i \n",
        "  return soma\n"
      ],
      "execution_count": 0,
      "outputs": [
        {
          "output_type": "stream",
          "text": [
            "digite a:2\n",
            "digite b:4\n",
            "digite c:6\n"
          ],
          "name": "stdout"
        }
      ]
    },
    {
      "cell_type": "markdown",
      "metadata": {
        "id": "k7y23PxH8a95",
        "colab_type": "text"
      },
      "source": [
        "4. Faça um método `converte_horario(segundos)` que receba um único valor representando segundos e converta esse valor para horas, minutos e segundos; seguindo o formato 00:00:00."
      ]
    },
    {
      "cell_type": "code",
      "metadata": {
        "id": "GsqATuhi8a96",
        "colab_type": "code",
        "outputId": "4a23ffb0-2f8e-4a55-f418-8d00b6283bb8",
        "colab": {
          "base_uri": "https://localhost:8080/",
          "height": 34
        }
      },
      "source": [
        "h = float(input(\"digite o horario:\"))\n",
        "def converte (seg):\n",
        "  hora = segundos / 3600\n",
        "  resto = segundos % 3600\n",
        "  segundo = resto % 60\n",
        "\n",
        "  return \"{:d}:{:d}:{:d}\".format(hora, minuto, segundo)\n"
      ],
      "execution_count": 0,
      "outputs": [
        {
          "output_type": "stream",
          "text": [
            "digite o horario:10\n"
          ],
          "name": "stdout"
        }
      ]
    },
    {
      "cell_type": "markdown",
      "metadata": {
        "id": "4kBCddQe8a99",
        "colab_type": "text"
      },
      "source": [
        "5. Crie o método `calcula_reajuste(preco_antigo, preco_atual)` que receba os valores antigo e atual de um produto e determine o percentual de acréscimo entre esses valores."
      ]
    },
    {
      "cell_type": "code",
      "metadata": {
        "id": "hb2GW8HH8a9_",
        "colab_type": "code",
        "colab": {}
      },
      "source": [
        ""
      ],
      "execution_count": 0,
      "outputs": []
    },
    {
      "cell_type": "markdown",
      "metadata": {
        "id": "KuUb4oFi8a-C",
        "colab_type": "text"
      },
      "source": [
        "6. Crie o método `imprime_multiplicacao(n)` que receba como parâmetro um número inteiro no intervalo de 1 a 9 (inclusive) e mostre a seguinte tabela de multiplicação (no exemplo, n = 9):\n",
        "\n",
        "\n",
        "1<br/> \n",
        "2  4 <br/>\n",
        "3 6 9  <br/>\n",
        "4 8 12 16  <br/>\n",
        "5 10 15 20 25  <br/>\n",
        "6 12 18 24 30 36  <br/>\n",
        "7 14 21 28 35 42 49  <br/>\n",
        "8 16 24 32 40 48 56 64  <br/>\n",
        "9 18 27 36 45 54 63 72 81  <br/>"
      ]
    },
    {
      "cell_type": "code",
      "metadata": {
        "id": "Iib7JAAJ8a-F",
        "colab_type": "code",
        "colab": {}
      },
      "source": [
        "def imprime (n):\n",
        "  for i in range (1, (n+1)):\n",
        "    print(\"\\n\")\n",
        "    for j in range(i):\n",
        "      print((i) * (j + 1))\n",
        "imprime(9)\n"
      ],
      "execution_count": 0,
      "outputs": []
    },
    {
      "cell_type": "markdown",
      "metadata": {
        "id": "NP812Gpr8a-I",
        "colab_type": "text"
      },
      "source": [
        "7. crie o método `media_alunos(nota1, nota2, nota3, tipo)` que receba as três notas de um aluno como parâmetros e um número inteiro indicando o tipo de média. Se o número for 0, a função deverá calcular a média aritmética das notas do aluno; se for 1, deverá calcular a média ponderada, com pesos os respectivos pesos: 5, 3 e 2. A média calculada deverá ser retornada pela função."
      ]
    },
    {
      "cell_type": "code",
      "metadata": {
        "id": "VnwsU9eG8a-J",
        "colab_type": "code",
        "colab": {
          "base_uri": "https://localhost:8080/",
          "height": 34
        },
        "outputId": "c834a7b3-755e-4a65-df4c-e5e0a507529c"
      },
      "source": [
        "def media (n1, n2, n3, tipo):\n",
        "  if tipo == 1:\n",
        "    resultado = ((n1*5) + (n2*3) + (n3*2))/3\n",
        "    return resultado\n",
        "  elif tipo == 0:\n",
        "    resultado = (n1 + n2 + n3)/3\n",
        "    return resultado\n",
        "print(media(1, 2, 3, 1))"
      ],
      "execution_count": 8,
      "outputs": [
        {
          "output_type": "stream",
          "text": [
            "5.666666666666667\n"
          ],
          "name": "stdout"
        }
      ]
    },
    {
      "cell_type": "markdown",
      "metadata": {
        "id": "NVyaY-4R8a-N",
        "colab_type": "text"
      },
      "source": [
        "8. Faça o método `maior_menor(numeros)` que receba um vetor de números inteiros como parâmetro, em seguida, determine e imprima na tela o maior e o menor número."
      ]
    },
    {
      "cell_type": "code",
      "metadata": {
        "id": "1twijRLD8a-O",
        "colab_type": "code",
        "colab": {
          "base_uri": "https://localhost:8080/",
          "height": 34
        },
        "outputId": "b04c6d95-63ed-46e3-817c-41835865493a"
      },
      "source": [
        "def mm(num):\n",
        "  maior = -1\n",
        "  menor = 1\n",
        "  x = len(num)\n",
        "  for i in range(x):\n",
        "    y = num[i]\n",
        "    if (y<menor):\n",
        "      menor = y\n",
        "    if (y>maior):\n",
        "      maior = y\n",
        "  return menor, maior\n",
        "vet = [ 8, 5, 2, 7, 4, 1, 9, 6, 3, 2]\n",
        "print(mm(vet))  "
      ],
      "execution_count": 16,
      "outputs": [
        {
          "output_type": "stream",
          "text": [
            "(1, 9)\n"
          ],
          "name": "stdout"
        }
      ]
    },
    {
      "cell_type": "markdown",
      "metadata": {
        "id": "IkdLAqMz8a-R",
        "colab_type": "text"
      },
      "source": [
        "9. Foi realizada uma pesquisa sobre algumas características físicas dos habitantes de uma região. Foram coletados os seguintes dados de cada habitante: sexo, cor dos olhos (A — azuis; ou C — castanhos), cor dos cabelos (L — louros; P — pretos; ou C — castanhos) e idade. Implemente os seguintes métodos:\n",
        "\n",
        "    1. `leia_dados()`: leia esses dados, armazene e retorne os dados em uma lista;\n",
        "    2. `media_idades(dados)`: calcula e retorne a média de idade das pessoas com olhos castanhos e cabelos pretos;\n",
        "    3. `maior_idade(dados)`: determina e retorne a maior idade entre os habitantes;\n",
        "    4. `frequencia_individuos(dados)`: calcula e retorna a quantidade de indivíduos do sexo feminino com idade entre 18 e 35 anos (inclusive) e que tenham olhos azuis e cabelos louros."
      ]
    },
    {
      "cell_type": "code",
      "metadata": {
        "id": "IQ5qGNc58a-S",
        "colab_type": "code",
        "colab": {
          "base_uri": "https://localhost:8080/",
          "height": 51
        },
        "outputId": "1404b84d-cdea-43e0-f019-640a67548072"
      },
      "source": [
        "def leia_dados():\n",
        "  dados_habitantes = []\n",
        "\n",
        "  opcao = input(\"Deseja Ler Dados? [S] SIM - [N] NÃO \")[0].lower()\n",
        "\n",
        "  while (opcao == \"s\"):\n",
        "\n",
        "    sexo = input(\"\\nSexo: \")[0].upper()\n",
        "\n",
        "    print(\"\\nA - Azuis ou C - Castanhos\")\n",
        "    cor_olhos = input(\"Cor dos Olhos: \")[0].upper()\n",
        "\n",
        "    print(\"\\nL - Louro; P - Preto; C - Castanhos\")\n",
        "    cor_cabelos = input(\"Cor dos Cabelos\")[0].upper()\n",
        "\n",
        "    idade = int(input(\"\\nIdade: \"))\n",
        "\n",
        "    habitante = {\n",
        "        'sexo': sexo,\n",
        "        'olhos': cor_olhos,\n",
        "        'cabelos': cor_cabelos,\n",
        "        'idade': idade\n",
        "    }\n",
        "\n",
        "    dados_habitantes.append(habitante)\n",
        "\n",
        "    opcao = input(\"Deseja Ler Dados? [S] SIM - [N] NÃO \")[0].lower()\n",
        "\n",
        "  return dados_habitantes\n",
        "\n",
        "\n",
        "def media_idades(dados):\n",
        "  media = 0.0\n",
        "  soma = 0\n",
        "  contador = 0\n",
        "\n",
        "  for habitante in dados:\n",
        "    if (habitante['olhos'] == 'C') and (habitante['cabelos'] == 'P'):\n",
        "      soma = habitante['idade'] + soma\n",
        "      contador = contador + 1\n",
        "\n",
        "  if contador != 0:\n",
        "    media = soma / contador\n",
        "\n",
        "  return media\n",
        "\n",
        "def maior_idade(dados):\n",
        "  maior_idade = 0\n",
        "\n",
        "  for habitante in dados:\n",
        "    if habitante['idade'] > maior_idade:\n",
        "      maior_idade = habitante['idade']\n",
        "\n",
        "  return maior_idade\n",
        "\n",
        "def frequencia_individuos(dados):\n",
        "  frequencia = 0\n",
        "\n",
        "  for habitante in dados:\n",
        "    if (habitante['sexo'] == 'F') and (habitante['idade'] >= 18 and habitante['idade'] <= 35) and (habitante['olhos'] == 'A') and (habitante['cabelos'] == 'L'):\n",
        "      frequencia = frequencia + 1\n",
        "  \n",
        "  return frequencia\n",
        "\n",
        "dados = leia_dados()\n",
        "media_idades(dados)\n",
        "maior_idade(dados)\n",
        "frequencia_individuos(dados)\n"
      ],
      "execution_count": 3,
      "outputs": [
        {
          "output_type": "stream",
          "text": [
            "Deseja Ler Dados? [S] SIM - [N] NÃO n\n"
          ],
          "name": "stdout"
        },
        {
          "output_type": "execute_result",
          "data": {
            "text/plain": [
              "0"
            ]
          },
          "metadata": {
            "tags": []
          },
          "execution_count": 3
        }
      ]
    },
    {
      "cell_type": "markdown",
      "metadata": {
        "id": "kaMcxfzF8a-W",
        "colab_type": "text"
      },
      "source": [
        "10. Implemente o método `fatorial(n)` que receba como parâmetro um número inteiro e retorne o fatorial deste número."
      ]
    },
    {
      "cell_type": "code",
      "metadata": {
        "id": "criSnF5b8a-X",
        "colab_type": "code",
        "colab": {
          "base_uri": "https://localhost:8080/",
          "height": 34
        },
        "outputId": "07579228-6d1d-41d4-fe27-5edc44b58d44"
      },
      "source": [
        "def fatorial(x):\n",
        "  total = 1\n",
        "  for i in range(0,x):\n",
        "    total = total * (i+1)\n",
        "    return total\n",
        "print(fatorial)"
      ],
      "execution_count": 15,
      "outputs": [
        {
          "output_type": "stream",
          "text": [
            "1\n"
          ],
          "name": "stdout"
        }
      ]
    },
    {
      "cell_type": "markdown",
      "metadata": {
        "id": "aPJRZ_qh8a-Z",
        "colab_type": "text"
      },
      "source": [
        "11. Faça o método `calcula_fatorial(numeros)` que receba uma lista de números inteiros como parâmetro. Ao final dessa função, deverá ter sido gerado um vetor `resultados_fatorial` contendo o fatorial de cada elemento da lista de números passada como parâmetro."
      ]
    },
    {
      "cell_type": "code",
      "metadata": {
        "id": "mUAFo8j28a-a",
        "colab_type": "code",
        "colab": {}
      },
      "source": [
        ""
      ],
      "execution_count": 0,
      "outputs": []
    },
    {
      "cell_type": "markdown",
      "metadata": {
        "id": "CBl5dcS58a-e",
        "colab_type": "text"
      },
      "source": [
        "12. Crie o método `identifica_numeros_pares(numeros)` que recebe um vetor de números inteiros como parâmetro, calcule e mostre na tela os números pares e suas respectivas posições."
      ]
    },
    {
      "cell_type": "code",
      "metadata": {
        "id": "s__w_8GO8a-g",
        "colab_type": "code",
        "colab": {}
      },
      "source": [
        ""
      ],
      "execution_count": 0,
      "outputs": []
    },
    {
      "cell_type": "markdown",
      "metadata": {
        "id": "deGetrsJ8a-j",
        "colab_type": "text"
      },
      "source": [
        "13. Crie o método `intercala(a, b)` que receba dois vetores númericos como parâmetro e retorne o vetor resultante da intercalação deles, por exemplo:\n",
        "\n",
        "    * Vetor A = [3, 5, 4, 2, 2, 5, 3, 2, 5, 9]\n",
        "    * Vetor B = [7, 15, 20, 0, 18, 4, 55, 23, 8, 6]\n",
        "    * Vetor Intercalado = [3, 7, 5, 15, 4, 20, 2, 0, 2, 18, 5, 4, 3, 55, 2, 23, 5, 8, 9, 6]\n"
      ]
    },
    {
      "cell_type": "code",
      "metadata": {
        "id": "aOIK2G8R8a-k",
        "colab_type": "code",
        "colab": {}
      },
      "source": [
        "def intercala_vetor(a, b):\n",
        "  vetor_intercalado = []\n",
        "  n = len(a)\n",
        "\n",
        "  for i in range(n):\n",
        "    vetor_intercalado.append(a[i])\n",
        "    vetor_intercalado.append(b[i])\n",
        "\n",
        "  return vetor_intercalado\n",
        "\n",
        "\n",
        "def intercala_lista(a, b):\n",
        "  lista_intercalada = []\n",
        "\n",
        "  while (len(a) > 0) or (len(b) > 0):\n",
        "    if len(a) > 0:\n",
        "      lista_intercalada.append(a.pop(0))\n",
        "    \n",
        "    if len(b) > 0:\n",
        "      lista_intercalada.append(b.pop(0))\n",
        "\n",
        "  return lista_intercalada\n",
        "\n",
        "vetor_a = [3, 5, 4, 2, 2, 5, 3, 2, 5, 9]\n",
        "vetor_b = [7, 15, 20, 0, 18, 4, 55, 23, 8, 6]\n",
        "\n",
        "print(vetor_a)\n",
        "print(vetor_b)\n",
        "intercalado = intercala_vetor(vetor_a, vetor_b)\n",
        "print(intercalado)"
      ],
      "execution_count": 0,
      "outputs": []
    },
    {
      "cell_type": "markdown",
      "metadata": {
        "id": "S-RIt-EK8a-o",
        "colab_type": "text"
      },
      "source": [
        "14. Implemente o método `uniao(a, b)` que receba dois vetores numéricos como parâmetro, calcule e retorne um vetor numérico com a união entre a e b (A ∪ B), ou seja, que possua todos os elementos dos vetores A e B, sem repetições."
      ]
    },
    {
      "cell_type": "code",
      "metadata": {
        "id": "R1r1geMa8a-p",
        "colab_type": "code",
        "colab": {}
      },
      "source": [
        "def uniao(a, b):\n",
        "  return a + b\n",
        "\n",
        "def repetida(a, b):\n",
        "  return sorted(a + b)\n",
        "\n",
        "def cemreptir(a, b):\n",
        "  return list(set(a) | set(b))    "
      ],
      "execution_count": 0,
      "outputs": []
    },
    {
      "cell_type": "markdown",
      "metadata": {
        "id": "6s4ljGj78a-r",
        "colab_type": "text"
      },
      "source": [
        "15. Implemente o método `diferenca(a, b)` que receba dois vetores numéricos como parâmetro, calcule e retorne um vetor numérico com a diferença entre a e b (A - B), ou seja, todos os elementos do vetores A que não existam no vetor B, sem repetições."
      ]
    },
    {
      "cell_type": "code",
      "metadata": {
        "id": "vbgTuk1G8a-s",
        "colab_type": "code",
        "colab": {}
      },
      "source": [
        "def diferenca(a, b):\n",
        "  return list(set(a) - set(b))"
      ],
      "execution_count": 0,
      "outputs": []
    },
    {
      "cell_type": "markdown",
      "metadata": {
        "id": "p2Vldjlf8a-u",
        "colab_type": "text"
      },
      "source": [
        "16. Implemente o método `intersecao(a, b)` que receba dois vetores numéricos como parâmetro, calcule e retorne um vetor numérico com a intersecção entre a e b (A ∩ B), ou seja, contenha apenas os elementos que aparecem nos dois vetores, sem repetições."
      ]
    },
    {
      "cell_type": "code",
      "metadata": {
        "id": "_2IaCJIy8a-v",
        "colab_type": "code",
        "colab": {}
      },
      "source": [
        "def intersecao(a, b):\n",
        "  return list(set(a) & set(b))"
      ],
      "execution_count": 0,
      "outputs": []
    },
    {
      "cell_type": "markdown",
      "metadata": {
        "id": "ltcDWSnW8a-z",
        "colab_type": "text"
      },
      "source": [
        "17. Implemente o método `par(n)` que receba como parâmetro um número e retorne verdadeiro (true) se ele for par ou falso (false) se ele for ímpar."
      ]
    },
    {
      "cell_type": "code",
      "metadata": {
        "id": "dL_oDe5f8a-0",
        "colab_type": "code",
        "colab": {}
      },
      "source": [
        "def multiplo(a, b):\n",
        "  return True if (a % b == 0) else False"
      ],
      "execution_count": 0,
      "outputs": []
    },
    {
      "cell_type": "markdown",
      "metadata": {
        "id": "ZIU2fejA8a-4",
        "colab_type": "text"
      },
      "source": [
        "18. Implemente o método `max(numeros)` que receba como parâmetro uma lista de números e retorne o *maior número* encontrado na lista."
      ]
    },
    {
      "cell_type": "code",
      "metadata": {
        "id": "pKumwayv8a-5",
        "colab_type": "code",
        "colab": {}
      },
      "source": [
        "def max(num):\n",
        "  maior = -1\n",
        "  x = len(num)\n",
        "  for i in range(x):\n",
        "    y = num[i]\n",
        "    if (y > maior):\n",
        "      maior = y\n",
        "  return maior\n",
        "vet = [ 8, 5, 2, 7, 4, 1, 9, 6, 3, 2]\n",
        "print(max(vet))\n"
      ],
      "execution_count": 0,
      "outputs": []
    },
    {
      "cell_type": "markdown",
      "metadata": {
        "id": "ToYLHwg_8a-7",
        "colab_type": "text"
      },
      "source": [
        "19. Implemente o método `min(numeros)` que receba como parâmetro uma lista de números e retorne o *menor número* encontrado na lista."
      ]
    },
    {
      "cell_type": "code",
      "metadata": {
        "id": "rLLd38v-8a-8",
        "colab_type": "code",
        "colab": {}
      },
      "source": [
        "def min(num):\n",
        "  menor = 1\n",
        "  x = len(num)\n",
        "  for i in range(x):\n",
        "    y = num[i]\n",
        "    if (y < menor):\n",
        "      menor = y\n",
        "  return menor\n",
        "vet = [ 8, 5, 2, 7, 4, 1, 9, 6, 3, 2]\n",
        "print(min(vet))\n"
      ],
      "execution_count": 0,
      "outputs": []
    },
    {
      "cell_type": "markdown",
      "metadata": {
        "id": "by2C3m5R8a--",
        "colab_type": "text"
      },
      "source": [
        "20. Escreva o método `multiplo(a, b)` que receba dois números inteiros como parâmetro e retorne verdadeiro (true) se o primeiro for um múltiplo do segundo. Por exemplo: \n",
        "\n",
        "    * Se o usuário digitar 15 e 3, o primeiro número será múltiplo do segundo;\n",
        "    * Se o usuário digitar 2 e 4, o primeiro número não será múltiplo do segundo. \n",
        "\n",
        "> **Dica:** use o operador módulo para obter o resto da divisão.\n"
      ]
    },
    {
      "cell_type": "code",
      "metadata": {
        "id": "iN33yOwF8a-_",
        "colab_type": "code",
        "colab": {}
      },
      "source": [
        "def mult (a, b):\n",
        "  return True if (x % y == 0)\n",
        "  else False\n",
        "  print(mult(1,2))"
      ],
      "execution_count": 0,
      "outputs": []
    },
    {
      "cell_type": "markdown",
      "metadata": {
        "id": "fNh9eF4w8a_B",
        "colab_type": "text"
      },
      "source": [
        "21. Implemente o método `imprime_vetor(vetor, codigo)` que receba como parâmetro um vetor de itens que será impresso e um código indicando a ordem da impressão. Se o código for igual a 0, o vetor deverá ser impresso de maneira crescente, caso contrário, se o código for igual a 1 o vetor deverá ser impresso de maneira decrescente. "
      ]
    },
    {
      "cell_type": "code",
      "metadata": {
        "id": "zShvptZH8a_C",
        "colab_type": "code",
        "colab": {}
      },
      "source": [
        ""
      ],
      "execution_count": 0,
      "outputs": []
    },
    {
      "cell_type": "markdown",
      "metadata": {
        "id": "Leiv2Mcy8a_F",
        "colab_type": "text"
      },
      "source": [
        "22. Implemente o método `primo(n)` que receba um número como parâmetro e retorna verdadeiro (true) se ele for primo, caso contrário, falso (false). \n",
        "\n",
        "> Um número é primo quando é divisível apenas por 1 e por ele mesmo"
      ]
    },
    {
      "cell_type": "code",
      "metadata": {
        "id": "xl1rOKfl8a_H",
        "colab_type": "code",
        "colab": {}
      },
      "source": [
        ""
      ],
      "execution_count": 0,
      "outputs": []
    },
    {
      "cell_type": "markdown",
      "metadata": {
        "id": "iceJiPBW8a_J",
        "colab_type": "text"
      },
      "source": [
        "23. Crie o método `media(numeros)` que receba uma lista de números como parâmetro e retorno a média artimética."
      ]
    },
    {
      "cell_type": "code",
      "metadata": {
        "id": "bZ58VIJE8a_L",
        "colab_type": "code",
        "colab": {}
      },
      "source": [
        ""
      ],
      "execution_count": 0,
      "outputs": []
    },
    {
      "cell_type": "markdown",
      "metadata": {
        "id": "JvBV32Q68a_O",
        "colab_type": "text"
      },
      "source": [
        "24. Faça o método `analisa_numeros(numeros)` que receba uma lista de números como parâmetro, calcule e mostre:\n",
        "\n",
        "    1. A Soma dos números;\n",
        "    2. A quantidade de números;\n",
        "    3. A média dos números;\n",
        "    4. O maior número;\n",
        "    5. O menor número;\n",
        "    6. A média dos números pares;\n",
        "    7. A porcentagem dos números ímpares entre todos os números da lista.\n",
        "\n",
        "> Você pode utilizar métodos criados nos exercícios anteriores."
      ]
    },
    {
      "cell_type": "code",
      "metadata": {
        "id": "EuEi0KIq8a_P",
        "colab_type": "code",
        "colab": {}
      },
      "source": [
        ""
      ],
      "execution_count": 0,
      "outputs": []
    },
    {
      "cell_type": "markdown",
      "metadata": {
        "id": "qhzHgyPF8a_R",
        "colab_type": "text"
      },
      "source": [
        "25. Uma empresa quer transmitir dados pelo telefone, mas está preocupada com a interceptação telefônica. Todos os seus dados são transmitidos  como inteiros de quatro dígitos. Ela pediu para que você escreva um programa que criptografe seus dados, para que eles possam ser transmitidos com mais segurança. Implemente a função `criptogra(numero)` que receba como parâmetro um número inteiro de quatro dígitos e criptografe-o da seguinte forma: \n",
        "\n",
        "    * Substitua cada um dos dígitos do número usando a seguinte fórmula: `(digito +  7) módulo 10`; \n",
        "    * Após a substituição, troque o primeiro dígito pelo terceiro e troque o segundo dígito pelo quarto;\n",
        "    * Retorne o número inteiro criptografado.\n"
      ]
    },
    {
      "cell_type": "code",
      "metadata": {
        "id": "EeqYgru_8a_T",
        "colab_type": "code",
        "colab": {}
      },
      "source": [
        ""
      ],
      "execution_count": 0,
      "outputs": []
    }
  ]
}