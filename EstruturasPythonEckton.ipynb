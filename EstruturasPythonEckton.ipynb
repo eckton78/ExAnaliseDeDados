{
  "nbformat": 4,
  "nbformat_minor": 0,
  "metadata": {
    "kernelspec": {
      "display_name": "Python 3",
      "language": "python",
      "name": "python3"
    },
    "language_info": {
      "codemirror_mode": {
        "name": "ipython",
        "version": 3
      },
      "file_extension": ".py",
      "mimetype": "text/x-python",
      "name": "python",
      "nbconvert_exporter": "python",
      "pygments_lexer": "ipython3",
      "version": "3.7.4"
    },
    "colab": {
      "name": "EstruturasPythonEckton",
      "provenance": [],
      "collapsed_sections": [],
      "include_colab_link": true
    }
  },
  "cells": [
    {
      "cell_type": "markdown",
      "metadata": {
        "id": "view-in-github",
        "colab_type": "text"
      },
      "source": [
        "<a href=\"https://colab.research.google.com/github/eckton78/ExAnaliseDeDados/blob/master/EstruturasPythonEckton.ipynb\" target=\"_parent\"><img src=\"https://colab.research.google.com/assets/colab-badge.svg\" alt=\"Open In Colab\"/></a>"
      ]
    },
    {
      "cell_type": "markdown",
      "metadata": {
        "id": "qUDs2uDMwFVn",
        "colab_type": "text"
      },
      "source": [
        "## Estruturas de Controle \n",
        "\n",
        "\n",
        "### Estruturas de Seleção\n",
        "\n",
        "As estruturas de seleção *if* e *if/else* são usadas para controle da execução sequêncial de um programa. \n",
        "Na prática, se uma determinada condição lógica for avaliada como verdadeira, o interpretador Python executa todos os comandos dentro do bloco da estrutura de seleção. \n",
        "Em Python, para a estruturas de seleção única usamos a palavra-chave *if* e para estruturas de seleção múltiplas usamos o nome *elsif*. \n",
        "\n",
        "```python\n",
        " if condicao1:\n",
        "    # Executa quando a condição1 for verdadeira\n",
        " elif condicao2:\n",
        "    # Executa quando a condição2 for verdadeira\n",
        " else:\n",
        "    # Executa quando todas condições não forem satisfeitas\n",
        "```\n",
        "\n",
        "### Estruturas de Repetição\n",
        "\n",
        "O Python possui duas estruturas de repetição, são elas: *for* e *while*. A estrutura de repetição *for*, em sua sintaxe, difere um pouco, por exemplo, das linguagens de programação baseadas em C, onde definimos uma condição de parada (i < n) e um passo de iteração (i++). O comando *for* é usado para percorrer os itens de qualquer sequência (p. ex.: lista, string ou tupla) para que eles apareçam em série ou simplesmente como um laço de repetição (*loop*). "
      ]
    },
    {
      "cell_type": "code",
      "metadata": {
        "id": "TEd7tXzmwFVr",
        "colab_type": "code",
        "outputId": "b5aab60a-bbe6-41b9-bb7c-da2bdcf769a1",
        "colab": {
          "base_uri": "https://localhost:8080/",
          "height": 136
        }
      },
      "source": [
        "cores  = [\"Vermelho\", \"Laranja\", \"Amarelo\", \"Verde\", \"Azul\", \"Anil\", \"Violeta\"]\n",
        "\n",
        "for cor in cores:\n",
        "    print(\"Eu ♥ \" + cor)"
      ],
      "execution_count": 0,
      "outputs": [
        {
          "output_type": "stream",
          "text": [
            "Eu ♥ Vermelho\n",
            "Eu ♥ Laranja\n",
            "Eu ♥ Amarelo\n",
            "Eu ♥ Verde\n",
            "Eu ♥ Azul\n",
            "Eu ♥ Anil\n",
            "Eu ♥ Violeta\n"
          ],
          "name": "stdout"
        }
      ]
    },
    {
      "cell_type": "markdown",
      "metadata": {
        "id": "YSSyC23kwFVx",
        "colab_type": "text"
      },
      "source": [
        "Se você possui alguma experiência anterior com programação, deve estar se perguntando neste exato momento, como podemos percorrer os itens de uma sequência usando índices? Para tal, podemos utilizar a função range() em conjunto com a função len(). A função *range(start, stop, step)* do Python, retorna uma sequência de números, começando em 0 (zero) por padrão, e incrementando de um em um, até o fim de um número especificado como parâmetro. A função len(), por sua vez, retorna o número de itens de uma determina sequência. Acompanhe abaixo, alguns exemplos de como essas funções podem ser usadas em conjunto com a instrução *for* para indexar itens de uma lista."
      ]
    },
    {
      "cell_type": "code",
      "metadata": {
        "id": "UNNKWfNIwFVy",
        "colab_type": "code",
        "outputId": "3ea34260-3aad-4d3c-896d-34ca1757c838",
        "colab": {
          "base_uri": "https://localhost:8080/",
          "height": 1000
        }
      },
      "source": [
        "# EXEMPLOS - Função range()\n",
        "lista1 = range(5)\n",
        "lista2 = range(10, 20, 2)\n",
        "lista3 = range(1, 5)\n",
        "lista4 = range(5, -1, -1)\n",
        "\n",
        "print(\"EXEMPLOS: Função range()\\n\")\n",
        "\n",
        "for item in lista1:\n",
        "    print(item) # Para range(5) Saída: [0, 1, 2, 3, 4]\n",
        "\n",
        "print(\"\\n\") \n",
        "    \n",
        "for item in lista2:\n",
        "    print(item) # Para range(10, 20, 2) Saída: [10, 12, 14, 16, 18]\n",
        "\n",
        "print(\"\\n\")     \n",
        "    \n",
        "for item in lista3:\n",
        "    print(item) # Para range(1, 5) Saída: [1, 2, 3, 4]\n",
        "\n",
        "print(\"\\n\")     \n",
        "    \n",
        "for item in lista4:\n",
        "    print(item) # Para range(1, 5) Saída: [1, 2, 3, 4]\n",
        "    \n",
        "    \n",
        "print(\"\\n\")     \n",
        "    \n",
        "    \n",
        "# EXEMPLOS - for, range() e len\n",
        "print(\"EXEMPLOS: for, len() e range()\\n\")\n",
        "\n",
        "\n",
        "# Imprimindo lista de cores\n",
        "cores  = [\"Vermelho\", \"Laranja\", \"Amarelo\", \"Verde\", \"Azul\", \"Anil\", \"Violeta\"]\n",
        "n = len(cores) # a função len() retorna o número de elementos\n",
        "\n",
        "for i in range(n):\n",
        "    print(cores[i])\n",
        "\n",
        "print(\"\\n\")\n",
        "\n",
        "for i in range((n - 1), -1, -1):\n",
        "    print(cores[i])\n",
        "\n",
        "\n",
        "# for aninhado para impressão de um padrão numérico\n",
        "for i in range(10):\n",
        "    for j in range(i):\n",
        "        print(i, end=\" \")    # Imprime o número\n",
        "    print(\"\\n\")              # Adiciona quebra de linha ao final de cada linha"
      ],
      "execution_count": 0,
      "outputs": [
        {
          "output_type": "stream",
          "text": [
            "EXEMPLOS: Função range()\n",
            "\n",
            "0\n",
            "1\n",
            "2\n",
            "3\n",
            "4\n",
            "\n",
            "\n",
            "10\n",
            "12\n",
            "14\n",
            "16\n",
            "18\n",
            "\n",
            "\n",
            "1\n",
            "2\n",
            "3\n",
            "4\n",
            "\n",
            "\n",
            "5\n",
            "4\n",
            "3\n",
            "2\n",
            "1\n",
            "0\n",
            "\n",
            "\n",
            "EXEMPLOS: for, len() e range()\n",
            "\n",
            "Vermelho\n",
            "Laranja\n",
            "Amarelo\n",
            "Verde\n",
            "Azul\n",
            "Anil\n",
            "Violeta\n",
            "\n",
            "\n",
            "Violeta\n",
            "Anil\n",
            "Azul\n",
            "Verde\n",
            "Amarelo\n",
            "Laranja\n",
            "Vermelho\n",
            "\n",
            "\n",
            "1 \n",
            "\n",
            "2 2 \n",
            "\n",
            "3 3 3 \n",
            "\n",
            "4 4 4 4 \n",
            "\n",
            "5 5 5 5 5 \n",
            "\n",
            "6 6 6 6 6 6 \n",
            "\n",
            "7 7 7 7 7 7 7 \n",
            "\n",
            "8 8 8 8 8 8 8 8 \n",
            "\n",
            "9 9 9 9 9 9 9 9 9 \n",
            "\n"
          ],
          "name": "stdout"
        }
      ]
    },
    {
      "cell_type": "markdown",
      "metadata": {
        "id": "j_mKgoU9wFV2",
        "colab_type": "text"
      },
      "source": [
        "Assim como o for, a estrutura de repetição while é usada para repetir um trecho de código várias vezes, porém, no while a repetição continua enquanto uma condição lógica definida seja verdadeira (True), veja alguns exemplos abaixo: \n",
        "\n",
        "```python\n",
        "while condicao: # enquanto condição for verdadeira\n",
        "    # Executa algum(ns) comando(s)\n",
        "    # Atualiza variável de controle\n",
        "```"
      ]
    },
    {
      "cell_type": "code",
      "metadata": {
        "id": "Xpp9RwMuwFV3",
        "colab_type": "code",
        "outputId": "c6672134-13ba-48cd-c1e5-21dfeb97468f",
        "colab": {
          "base_uri": "https://localhost:8080/",
          "height": 238
        }
      },
      "source": [
        "contador = 0                 # Define uma variável de controle que será avaliada na condição\n",
        "\n",
        "while contador < 10:         # enquanto a condição (contador < 10) for verdadeira\n",
        "    print(contador)          # Executa algum comando: print(contador)\n",
        "    contador = contador + 1  # Atualiza a variável de controle\n",
        "    \n",
        "print(\"\\n\")\n",
        "\n",
        "\n",
        "# EXEMPLO: Algoritmo Fatorial Iterativo\n",
        "n = 3\n",
        "i = 1\n",
        "resultado = 1\n",
        "\n",
        "while i <= n:\n",
        "    resultado = resultado * i\n",
        "    i = i + 1\n",
        "    \n",
        "print(\"Fatorial de %d é %d\" % (n, resultado))\n",
        "    "
      ],
      "execution_count": 0,
      "outputs": [
        {
          "output_type": "stream",
          "text": [
            "0\n",
            "1\n",
            "2\n",
            "3\n",
            "4\n",
            "5\n",
            "6\n",
            "7\n",
            "8\n",
            "9\n",
            "\n",
            "\n",
            "Fatorial de 3 é 6\n"
          ],
          "name": "stdout"
        }
      ]
    },
    {
      "cell_type": "markdown",
      "metadata": {
        "id": "K5KRTZFYwFV7",
        "colab_type": "text"
      },
      "source": [
        "### Técnicas de Looping\n",
        "\n",
        "1. Ao percorrer dicionários, a chave e o valor, podem ser recuperados ao mesmo tempo através do método *items()*;\n",
        "\n",
        "```python\n",
        "websites = {'site': \"Python Software Foundation\", 'url': \"https://www.python.org/\"}\n",
        "\n",
        "for key, value in websites.items():\n",
        "    print(key, value)\n",
        "    \n",
        "# Saída\n",
        "# site Python Software Foundation\n",
        "# url https://www.python.org/\n",
        "```\n",
        "\n",
        "2. Ao percorrer sequências, índice e o item, podem ser recuperados ao mesmo tempo através do método *enumerate()*;\n",
        "\n",
        "```python\n",
        "rgb = [\"Red\", \"Green\", \"Blue\"]\n",
        "\n",
        "for i, item in enumerate(rgb):\n",
        "    print(i, item)\n",
        "    \n",
        "# Saída\n",
        "# 0 Red\n",
        "# 1 Green\n",
        "# 2 Blue\n",
        "```\n",
        "\n",
        "3. Para percorrer duas ou mais sequências ao mesmo tempo, as entradas podem ser emparelhadas através da função *zip()*;\n",
        "\n",
        "\n",
        "```python\n",
        "condinomes_android = [\"Petit Four\", \"Eclair\",  \"Honeycomb\", \"Ice Cream Sandwich\", \"Lollipop\", \"Marshmallow\", \"Nougat\", \"Oreo\", \"Pie\"]\n",
        "versoes_android = [\"1.1\", \"2.0 – 2.1\", \"3.0 – 3.2.6\", \"4.0 – 4.0.4\", \"5.0 – 5.1.1\", \"6.0 – 6.0.1\", \"7.0 – 7.1.2\", \"8.0 – 8.1\", \"9.0\"]\n",
        "\n",
        "for codinome, versao in zip(condinomes_android, versoes_android):\n",
        "    print(codinome, versao)\n",
        "    \n",
        "# Saída\n",
        "# Petit Four 1.1\n",
        "# Eclair 2.0 – 2.1\n",
        "# Honeycomb 3.0 – 3.2.6\n",
        "# Ice Cream Sandwich 4.0 – 4.0.4\n",
        "# Lollipop 5.0 – 5.1.1\n",
        "# Marshmallow 6.0 – 6.0.1\n",
        "# Nougat 7.0 – 7.1.2\n",
        "# Oreo 8.0 – 8.1\n",
        "# Pie 9.0\n",
        "```\n",
        "\n",
        "4. Para iterar em uma sequência ordenada sem alterar a ordem dos elementos utilize o metodo *sorted()* que irá retornar uma nova lista ordenada sem alterar a original\n",
        "\n",
        "```python\n",
        "estados_sudeste_brasileiro = [\"São Paulo\", \"Rio de Janeiro\", \"Minas Gerais\", \"Espírito Santo\"]\n",
        "\n",
        "for estado in sorted(set(estados_sudeste_brasileiro)):\n",
        "    print(estado)\n",
        "    \n",
        "# Saída\n",
        "# Espírito Santo\n",
        "# Minas Gerais\n",
        "# Rio de Janeiro\n",
        "# São Paulo    \n",
        "    \n",
        "```"
      ]
    },
    {
      "cell_type": "markdown",
      "metadata": {
        "id": "qKTMQl2JwFV8",
        "colab_type": "text"
      },
      "source": [
        "## Exercícios"
      ]
    },
    {
      "cell_type": "markdown",
      "metadata": {
        "id": "9uP7ko7qwFV9",
        "colab_type": "text"
      },
      "source": [
        "1. A nota final de um estudante é calculada a partir de três notas atribuídas, respectivamente, a um trabalho\n",
        "de laboratório, a uma avaliação semestral e a um exame final. A média das três notas mencionadas\n",
        "obedece aos pesos a seguir:\n",
        "\n",
        "| Nota                    | Peso |\n",
        "|-------------------------|------|\n",
        "| Trabalho de Laboratório | 2    |\n",
        "| Avaliação Semestral     | 3    |\n",
        "| Exame Final             | 5    |\n",
        "\n",
        "\n",
        "Faça um programa que receba as três notas, calcule e mostre a média ponderada e o conceito que segue\n",
        "a tabela:\n",
        "\n",
        "| Média Ponderada        | Conceito |\n",
        "|------------------------|----------|\n",
        "| 8,00 <= Média <= 10,00 | A        |\n",
        "| 7,00 <= Média < 8,00   | B        |\n",
        "| 6,00 <= Média < 7,00   | C        |\n",
        "| 5,00 <= Média < 6,00   | D        |\n",
        "| 0,00 <= Média < 5,00   | E        |\n",
        "\n"
      ]
    },
    {
      "cell_type": "code",
      "metadata": {
        "id": "TkJBVyZMwFV-",
        "colab_type": "code",
        "outputId": "037d3210-d6a3-4d8f-9ece-448259a185a1",
        "colab": {
          "base_uri": "https://localhost:8080/",
          "height": 104
        }
      },
      "source": [
        "n1 = float(input(\"Nota 1 = \"))\n",
        "n2 = float(input(\"Nota 2 = \"))\n",
        "n3 = float(input(\"Nota 3 = \"))\n",
        "p1 = float(2)\n",
        "p2 = float(3)\n",
        "p3 = float(5)\n",
        "\n",
        "mp = ((float(n1*p1) + float(n2*p2) + float(n3*p3)) / float(p1+p2+p3))\n",
        "c = \"\"\n",
        "\n",
        "if  mp < 5 :\n",
        "  c = \"E\"\n",
        "elif mp >= 5 and mp < 6 : \n",
        "  c = \"D\"  \n",
        "elif mp >= 6 and mp < 7 :\n",
        "  c = \"C\"\n",
        "elif mp >= 7 and mp < 8 :\n",
        "  c = \"B\"\n",
        "else :\n",
        "  c = \"A\"  \n",
        "\n",
        "print(\"Media Ponderada = \" + str(mp) + \"\\n\" + \"Conceito = \" + str(c))\n",
        "\n",
        "\n"
      ],
      "execution_count": 0,
      "outputs": [
        {
          "output_type": "stream",
          "text": [
            "Nota 1 = 1\n",
            "Nota 2 = 2\n",
            "Nota 3 = 3\n",
            "Media Ponderada = 2.3\n",
            "Conceito = E\n"
          ],
          "name": "stdout"
        }
      ]
    },
    {
      "cell_type": "markdown",
      "metadata": {
        "id": "6dpBpgtRwFWB",
        "colab_type": "text"
      },
      "source": [
        "2. Faça um programa que receba três notas de um aluno, calcule e mostre a média aritmética e a mensagem constante na tabela a seguir. \n",
        "\n",
        "| Média                  | Situação       |\n",
        "|------------------------|----------------|\n",
        "| 7,00 <= Média <= 10,00 | Aprovado       |\n",
        "| 3,00 <= Média < 7,00   | Exame Especial |\n",
        "| 0,00 <= Média < 3,00   | Reprovado      |"
      ]
    },
    {
      "cell_type": "code",
      "metadata": {
        "id": "miDL-GXuwFWD",
        "colab_type": "code",
        "outputId": "bc29484a-985e-4243-8464-dec8ced47911",
        "colab": {
          "base_uri": "https://localhost:8080/",
          "height": 104
        }
      },
      "source": [
        "n1 = float(input(\"Nota 1 = \"))\n",
        "n2 = float(input(\"Nota 2 = \"))\n",
        "n3 = float(input(\"Nota 3 = \"))\n",
        "\n",
        "ma = (n1+n2+n3)/3\n",
        "s = \"\"\n",
        "\n",
        "if ma < 3 :\n",
        "  s = \"Reprovado\"\n",
        "elif ma >= 3 and ma < 7 :\n",
        "  s = \"Exame Especial\"\n",
        "else :\n",
        "  s = \"Aprovado\"  \n",
        "\n",
        "print(\"Media Aritmetica = \" + str(ma) + \"\\n\" + \"Situacao = \" + str(s))\n"
      ],
      "execution_count": 0,
      "outputs": [
        {
          "output_type": "stream",
          "text": [
            "Nota 1 = 1\n",
            "Nota 2 = 2\n",
            "Nota 3 = 3\n",
            "Media Aritmetica = 2.0\n",
            "Situacao = Reprovado\n"
          ],
          "name": "stdout"
        }
      ]
    },
    {
      "cell_type": "markdown",
      "metadata": {
        "id": "Te7BJCMuwFWG",
        "colab_type": "text"
      },
      "source": [
        "3. Faça um programa que receba dois números e mostre o maior."
      ]
    },
    {
      "cell_type": "code",
      "metadata": {
        "id": "pUF35LoKwFWH",
        "colab_type": "code",
        "outputId": "a78e2ea8-cc5e-4f67-ecaf-d49c93cbc315",
        "colab": {
          "base_uri": "https://localhost:8080/",
          "height": 69
        }
      },
      "source": [
        "n1 = int(input(\"N1º = \"))\n",
        "n2 = int(input(\"N2º = \"))\n",
        "\n",
        "if n1>n2 :\n",
        "  print(str(n1) + \"e o maior numero\")\n",
        "else :\n",
        "  print(str(n2) + \" e o maior numero\")"
      ],
      "execution_count": 0,
      "outputs": [
        {
          "output_type": "stream",
          "text": [
            "N1º = 1\n",
            "N2º = 3\n",
            "3 e o maior numero\n"
          ],
          "name": "stdout"
        }
      ]
    },
    {
      "cell_type": "markdown",
      "metadata": {
        "id": "n9fWvGd3wFWK",
        "colab_type": "text"
      },
      "source": [
        "4. Faça um programa que receba um número inteiro e verifique se é par ou ímpar."
      ]
    },
    {
      "cell_type": "code",
      "metadata": {
        "id": "rCKBFx7JwFWL",
        "colab_type": "code",
        "outputId": "73202225-004b-4199-b44e-6b30c9a240e7",
        "colab": {
          "base_uri": "https://localhost:8080/",
          "height": 52
        }
      },
      "source": [
        "n1 = int(input(\"N1º = \"))\n",
        "\n",
        "if n1 % 2 == 0 :\n",
        "  print(\"Numero e par\")\n",
        "else :\n",
        "  print(\"Numero e impar\")"
      ],
      "execution_count": 0,
      "outputs": [
        {
          "output_type": "stream",
          "text": [
            "N1º = 3\n",
            "Numero e impar\n"
          ],
          "name": "stdout"
        }
      ]
    },
    {
      "cell_type": "markdown",
      "metadata": {
        "id": "6GKdNvcXwFWO",
        "colab_type": "text"
      },
      "source": [
        "5. Faça um programa que mostre o menu de opções a seguir, receba a opção do usuário e os dados necessários para executar cada operação.\n",
        "\n",
        "Menu de opções:\n",
        "\n",
        "1. Somar dois números.\n",
        "2. Raiz quadrada de um número.\n",
        "\n",
        "Digite a opção desejada:"
      ]
    },
    {
      "cell_type": "code",
      "metadata": {
        "id": "hwCwa7d6wFWP",
        "colab_type": "code",
        "outputId": "a74366e9-b86b-43d8-8d59-8bc3cc1a1f2f",
        "colab": {
          "base_uri": "https://localhost:8080/",
          "height": 85
        }
      },
      "source": [
        "n1 = int(input(\"Para somar dois numero Digite 1 , para obter a raiz quadrada digite 2 \"))\n",
        "\n",
        "if n1 == 1 :\n",
        "  n1 = int(input(\"N1º = \"))\n",
        "  n2 = int(input(\"N2º = \"))\n",
        "  s = n1+n2\n",
        "  print(\"Soma total = \" + str(s))\n",
        "elif n1 == 2 :\n",
        "  n1 = int(input(\"N1º = \"))\n",
        "  q = n1**1/2\n",
        "  print (\"Raiz quadrada = \" + str(q))\n",
        "else :\n",
        "  print(\"Meu consagrado favor digitar uma as possiveis opcoes passadas anteriormente\")\n",
        "\n",
        "\n"
      ],
      "execution_count": 0,
      "outputs": [
        {
          "output_type": "stream",
          "text": [
            "Para somar dois numero Digite 1 , para obter a raiz quadrada digite 2 1\n",
            "N1º = 4\n",
            "N2º = 9\n",
            "Soma total = 13\n"
          ],
          "name": "stdout"
        }
      ]
    },
    {
      "cell_type": "markdown",
      "metadata": {
        "id": "tb5B34icwFWS",
        "colab_type": "text"
      },
      "source": [
        "6. Faça um programa que receba o código correspondente ao cargo de um funcionário e seu salário atual e mostre o cargo, o valor do aumento e seu novo salário. Os cargos estão na tabela a seguir.\n",
        "\n",
        "| Código | Cargo       | Percentual  |\n",
        "|--------|-------------|-------------|\n",
        "| 1      | Escrituário | 50%         |\n",
        "| 2      | Secretário  | 35%         |\n",
        "| 3      | Caixa       | 20%         |\n",
        "| 4      | Gerente     | 10%         |\n",
        "| 5      | Diretor     | Sem Aumento |"
      ]
    },
    {
      "cell_type": "code",
      "metadata": {
        "id": "NHrQC28RwFWS",
        "colab_type": "code",
        "outputId": "e3c5f383-20ea-4ed9-c66d-7ea4151307b2",
        "colab": {
          "base_uri": "https://localhost:8080/",
          "height": 69
        }
      },
      "source": [
        "n1 = int(input(\"Digite o codigo: \"))\n",
        "s = float(input(\"Digite o salario: \"))\n",
        "\n",
        "if n1 == 1 :\n",
        "  va1 = float((s*1.5)-s)\n",
        "  ns1 = float(s*1.5)\n",
        "  print(\"O cargo e de escrituario, seu aumento foi de R$\" + str(va1) + \", seu novo salario e de R$\" + str(ns1))\n",
        "elif n1 == 2 :\n",
        "  va2 = float((s*1.35)-s)\n",
        "  ns2 = float(s*1.35)\n",
        "  print(\"O cargo e secretario, seu aumento foi de R$\" + str(va2) + \", seu novo salario e de R$\" + str(ns2))\n",
        "elif n1 == 3 :\n",
        "  va3 = float((s*1.2)-s)\n",
        "  ns3 = float(s*1.2)\n",
        "  print(\"O cargo e caixa, seu aumento foi de R$\" + str(va3) + \", seu novo salario e de R$\" + str(ns3))\n",
        "elif n1 == 4 :\n",
        "  va4 = float((s*1.1)-s)\n",
        "  ns4 = float(s*1.1)\n",
        "  print(\"O cargo e gerente, seu aumento foi de R$\" + str(va4) + \", seu novo salario e de R$\" + str(ns4))\n",
        "elif n1 == 5 :\n",
        "  print(\"O cargo e direto e nao ira receber aumento, seu salario continua no valor de R$\" + str(s))      \n",
        "else :\n",
        "  print(\"Codigo nao encontrado\")"
      ],
      "execution_count": 0,
      "outputs": [
        {
          "output_type": "stream",
          "text": [
            "Digite o codigo: 1\n",
            "Digite o salario: 1000\n",
            "O cargo e de escrituario, seu aumento foi de R$500.0, seu novo salario e de R$1500.0\n"
          ],
          "name": "stdout"
        }
      ]
    },
    {
      "cell_type": "markdown",
      "metadata": {
        "id": "2hjU-Q_swFWW",
        "colab_type": "text"
      },
      "source": [
        "7. Faça um programa que receba o salário inicial de um funcionário, calcule e mostre o novo salário, acrescido de bonificação e de auxílio escola.\n",
        "\n",
        "| Salário                      | Bonificação     |\n",
        "|------------------------------|-----------------|\n",
        "| Até R\\\\$500,00                 | 5% do salário  |\n",
        "| Entre R\\\\$500,00 e R\\$1.1200,00 | 12% do salário  \n",
        "| Acima de R\\\\$1.200,00          | Sem Bonificação |\n",
        "\n",
        "| Salário           | Auxílio Escola |\n",
        "|-------------------|----------------|\n",
        "| Até R\\\\$600,00      | R\\\\$150,00       |\n",
        "| Acima de R\\\\$600,00 | R\\\\$100,00       |"
      ]
    },
    {
      "cell_type": "code",
      "metadata": {
        "id": "yVaMfY_awFWX",
        "colab_type": "code",
        "outputId": "fe027f1a-8443-46e8-b06b-f6ee3b6ac524",
        "colab": {
          "base_uri": "https://localhost:8080/",
          "height": 52
        }
      },
      "source": [
        "s = float(input(\"Digite o salario: \"))\n",
        "\n",
        "if s <= 500 :\n",
        "  bas1 = float(s+(s*0.05)+150)\n",
        "  print(\"Seu novo salario e de: \" + str(bas1))\n",
        "elif s > 500 and s <= 600 :\n",
        "  bas2 = float(s+(s*0.12)+150)\n",
        "  print(\"Seu novo salario e de: \"+ str(bas2))\n",
        "elif s > 600 and s <= 1200 :\n",
        "  bas3 = float(s+(s*0.12)+100)\n",
        "  print(\"Seu novo salario e de: \" + str(bas3))\n",
        "else :\n",
        "  bas4 = float(s+100)  \n",
        "  print(\"Seu novo salario e de:\" + str(bas4))\n",
        "\n"
      ],
      "execution_count": 0,
      "outputs": [
        {
          "output_type": "stream",
          "text": [
            "Digite o salario: 550\n",
            "Seu novo salario e de: 766.0\n"
          ],
          "name": "stdout"
        }
      ]
    },
    {
      "cell_type": "markdown",
      "metadata": {
        "id": "Aa4L5gpIwFWZ",
        "colab_type": "text"
      },
      "source": [
        "8. Um supermercado deseja reajustar os preços de seus produtos usando o seguinte critério: o produto poderá ter seu preço aumentado ou diminuído. Para o preço ser alterado, o produto deve preencher pelo menos um dos requisitos a seguir:\n",
        "\n",
        "| Venda Média Mensal | Preço Atual             | % de Aumento | % de Diminuição |\n",
        "|--------------------|-------------------------|--------------|-----------------|\n",
        "| < 500              | < R\\\\$ 30,00              | 10           | -               |\n",
        "| >= 500 e < 1.200   | >= R\\\\$30,00 e < R\\\\$ 80,00 | 15           | -               |\n",
        "| >= 1.200           | >= R\\\\$80,00              | -            | 20              |"
      ]
    },
    {
      "cell_type": "markdown",
      "metadata": {
        "id": "41mfl9b585iz",
        "colab_type": "text"
      },
      "source": [
        ""
      ]
    },
    {
      "cell_type": "code",
      "metadata": {
        "id": "I-90sm5hwFWa",
        "colab_type": "code",
        "outputId": "e00d23cf-4541-4384-9acf-b820e7b6565a",
        "colab": {
          "base_uri": "https://localhost:8080/",
          "height": 85
        }
      },
      "source": [
        "p = input(\"Informe o produto: \")\n",
        "vmm = float(input(\"Informe a venda media mensal: \"))\n",
        "pa = float(input(\"Informe o preco atual: \"))\n",
        "\n",
        "if vmm < 500 or pa < 30 :\n",
        "  np = float(pa*1.1)\n",
        "  print(\"Novo alor: \" + str(np))\n",
        "elif vmm >= 500 and vmm < 1200 or pa >=30 and pa < 80 :\n",
        "  np1 = float(pa*1.15)\n",
        "  print(\"Novo valor: \" + str(np1))\n",
        "elif vmm >= 1200 or pa >= 80 :  \n",
        "  np2 = float(pa*0.8)\n",
        "  print(\"Novo valor: \" + str(np2))\n",
        "else :\n",
        "  print(\"Nao preenche os requisitos para alteracao\")  "
      ],
      "execution_count": 0,
      "outputs": [
        {
          "output_type": "stream",
          "text": [
            "Informe o produto: adeas\n",
            "Informe a venda media mensal: 499\n",
            "Informe o preco atual: 81\n",
            "Novo alor: 89.10000000000001\n"
          ],
          "name": "stdout"
        }
      ]
    },
    {
      "cell_type": "markdown",
      "metadata": {
        "id": "44va3kydwFWd",
        "colab_type": "text"
      },
      "source": [
        "9. Faça um programa para resolver equações do 2º grau.\n",
        "\n",
        "$$\n",
        "a^{2} + bx + c = 0\n",
        "$$\n",
        "\n",
        "\n",
        "Onde x é uma variável, sendo a, b e c constantes, com a ≠ 0 \n",
        "\n",
        "\n",
        "$$\n",
        "\\Delta = b^{2} - 4ac\n",
        "$$\n",
        "\n",
        "$$\n",
        "\\Delta < 0 \\rightarrow não \\: existe  \\: raiz  \\: real\n",
        "$$\n",
        "\n",
        "$$\n",
        "\\Delta = 0 \\rightarrow  existe  \\: raiz  \\: real\n",
        "$$\n",
        "\n",
        "$$\n",
        "x = \\frac{-b}{2a}\n",
        "$$\n",
        "\n",
        "\n",
        "\n",
        "$$\n",
        "\\Delta > 0 \\rightarrow existem \\: duas  \\: raizes  \\: reais\n",
        "$$\n",
        "\n",
        "\n",
        "$$\n",
        "x_1 = \\frac{-b \\: + \\: \\sqrt{\\Delta } }{2a}\n",
        "$$\n",
        "\n",
        "$$\n",
        "x_2 = \\frac{-b \\: - \\: \\sqrt{\\Delta } }{2a}\n",
        "$$"
      ]
    },
    {
      "cell_type": "code",
      "metadata": {
        "id": "1IxfFDh-_KEi",
        "colab_type": "code",
        "colab": {}
      },
      "source": [
        ""
      ],
      "execution_count": 0,
      "outputs": []
    },
    {
      "cell_type": "code",
      "metadata": {
        "id": "zPbo3V55wFWf",
        "colab_type": "code",
        "outputId": "bb95d77f-9cb8-47ee-cabf-970bf825afef",
        "colab": {
          "base_uri": "https://localhost:8080/",
          "height": 85
        }
      },
      "source": [
        "n1 = float(input(\"Digite o valor de 'A': \"))\n",
        "n2 = float(input(\"Digite o valor de 'B': \"))\n",
        "n3 = float(input(\"Digite o valor de 'C': \"))\n",
        "d = float((n2**2)-(4*n1*n3))\n",
        "\n",
        "if d < 0 :\n",
        "  print(\"Nao existe raiz real\")\n",
        "elif d == 0 :\n",
        "  x = float((-n2)/(n1*2))\n",
        "  print(\"Delta e igual a :\" + str(x))\n",
        "else :\n",
        "  x1 = float(((-n2)+(d**1/2))/(n1*2))\n",
        "  x2 = float(((-n2)-(d**1/2))/(n1*2))\n",
        "  print(\"X1 = \" + str(x1) + \"\\n\" + \"X2 = \" + str(x2))"
      ],
      "execution_count": 0,
      "outputs": [
        {
          "output_type": "stream",
          "text": [
            "Digite o valor de 'A': 9\n",
            "Digite o valor de 'B': 12\n",
            "Digite o valor de 'C': 4\n",
            "Delta e igual a :-0.6666666666666666\n"
          ],
          "name": "stdout"
        }
      ]
    },
    {
      "cell_type": "markdown",
      "metadata": {
        "id": "ou7R9mkswFWh",
        "colab_type": "text"
      },
      "source": [
        "10. Dados três valores X, Y e Z, verifique se eles podem ser os comprimentos dos lados de um triângulo e, se forem, verifique se é um triângulo equilátero, isósceles ou escaleno. Se eles não formarem um triângulo, escreva uma mensagem. Considere que:\n",
        "\n",
        "- O comprimento de cada lado de um triângulo é menor que a soma dos outros dois lados;\n",
        "- Chama-se equilátero o triângulo que tem três lados iguais;\n",
        "- Denomina-se isósceles o triângulo que tem o comprimento de dois lados iguais;\n",
        "- Recebe o nome de escaleno o triângulo que tem os três lados diferentes."
      ]
    },
    {
      "cell_type": "code",
      "metadata": {
        "id": "SvK0nUNIwFWi",
        "colab_type": "code",
        "outputId": "ad20bd69-83f8-429c-8544-93b6742c4b37",
        "colab": {
          "base_uri": "https://localhost:8080/",
          "height": 87
        }
      },
      "source": [
        "n1 = float(input(\"Digite o valor de 'X': \"))\n",
        "n2 = float(input(\"Digite o valor de 'Y': \"))\n",
        "n3 = float(input(\"Digite o valor de 'Z': \"))\n",
        "\n",
        "if n1 <= 0 or n2 <= 0 or n3 <= 0 :\n",
        "   print(\"Triangulo nao pode ser formado com numeros negativos\")\n",
        "  \n",
        "if n1 >= n2+n3 or n2 >= n3+n1 or n3 >= n1+n2 :\n",
        "   print(\"Nao forma triangulo\")\n",
        "   \n",
        "if n1 == n2 and n2 == n3 :\n",
        "   print(\"Equilatero\")\n",
        "\n",
        "elif n1 == n2 or n2 == n3 or n3 == n1 :\n",
        "   print(\"Isosceles\")\n",
        "\n",
        "else:\n",
        "   print(\"Escaleno\")"
      ],
      "execution_count": 0,
      "outputs": [
        {
          "output_type": "stream",
          "text": [
            "Digite o valor de 'X': 2\n",
            "Digite o valor de 'Y': 3\n",
            "Digite o valor de 'Z': 3\n",
            "Isosceles\n"
          ],
          "name": "stdout"
        }
      ]
    },
    {
      "cell_type": "markdown",
      "metadata": {
        "id": "Pm4ZuUnCwFWl",
        "colab_type": "text"
      },
      "source": [
        "11. Faça um programa que receba a altura e o peso de uma pessoa. De acordo com a tabela a seguir, verifique e mostre a classificação dessa pessoa.\n",
        "\n",
        "| Altura           | Peso até 60 | Peso entre 60 e 90 (Inclusive) | Peso Acima de 90 |\n",
        "|------------------|-------------|--------------------------------|------------------|\n",
        "| Menores que 1,20 | A           | D                              | G                |\n",
        "| De 1,20 a 1,70   | B           | E                              | H                |\n",
        "| Maiores que 1,70 | C           | F                              | I                |"
      ]
    },
    {
      "cell_type": "code",
      "metadata": {
        "id": "L6lX7JqPwFWm",
        "colab_type": "code",
        "outputId": "97d9fe85-f3d9-4a54-dadb-13936e8a0d32",
        "colab": {
          "base_uri": "https://localhost:8080/",
          "height": 70
        }
      },
      "source": [
        "n1 = float(input(\"Digite a altura: \"))\n",
        "n2 = float(input(\"Digite o peso: \"))\n",
        "\n",
        "if n1 < 1.2 and n2 < 60 :\n",
        "  print(\"A\")\n",
        "elif n1 < 1.2 and n2 >= 60 and n2 <= 90 :\n",
        "  print(\"D\")\n",
        "elif n1 < 1.2 and n2 > 90 :\n",
        "  print(\"G\")\n",
        "elif n1 >= 1.2 and n1 <= 1.7 and  n2 < 60 :\n",
        "  print(\"B\")\n",
        "elif n1 >= 1.2 and n1 <= 1.7 and n2 >= 60 and n2 <= 90 :\n",
        "  print(\"E\")\n",
        "elif n1 >= 1.2 and n1 <= 1.7 and n2 > 90 :\n",
        "  print(\"h\")\n",
        "elif n1 > 1.7 and n2 < 60 :\n",
        "  print(\"C\")\n",
        "elif n1 > 1.7 and n2 >= 60 and n2 < 90 : \n",
        "  print(\"F\")\n",
        "elif n1 > 1.7 and n2 > 90 :\n",
        "  print(\"I\")\n",
        "else :\n",
        "  print(\"????\")   "
      ],
      "execution_count": 0,
      "outputs": [
        {
          "output_type": "stream",
          "text": [
            "Digite a altura: 1.7\n",
            "Digite o peso: 60\n",
            "E\n"
          ],
          "name": "stdout"
        }
      ]
    },
    {
      "cell_type": "markdown",
      "metadata": {
        "id": "EU0UzjJiwFWo",
        "colab_type": "text"
      },
      "source": [
        "12. Faça um programa que receba:\n",
        "\n",
        "- O código de um produto comprado, supondo que a digitação do código do produto seja sempre válida, isto é, um número inteiro entre 1 e 10.\n",
        "- O peso do produto em quilos.\n",
        "- O código do país de origem, supondo que a digitação do código seja sempre válida, isto é, um número inteiro entre 1 e 3. \n",
        "\n",
        "Tabelas:\n",
        "\n",
        "| Código do País de Origem | Imposto |\n",
        "|--------------------------|---------|\n",
        "| 1                        | 0%      |\n",
        "| 2                        | 15%     |\n",
        "| 3                        | 25%     |\n",
        "\n",
        "\n",
        "| Código do Produto | Preço por Grama |\n",
        "|-------------------|-----------------|\n",
        "| 1 a 4             | 10              |\n",
        "| 5 a 7             | 25              |\n",
        "| 8 a 10            | 35              |"
      ]
    },
    {
      "cell_type": "code",
      "metadata": {
        "id": "NV3NRiBrwFWp",
        "colab_type": "code",
        "outputId": "80b0d36a-9d6c-462a-88f7-05372184af9d",
        "colab": {
          "base_uri": "https://localhost:8080/",
          "height": 85
        }
      },
      "source": [
        "n1 = float(input(\"Digite o Codigo do pais: \"))\n",
        "n2 = float(input(\"Digite o peso: \"))\n",
        "n3 = float(input(\"Digite o codigo do produto: \"))\n",
        "\n",
        "if n1 == 1 and n3 >= 1 and n3 <= 4 :\n",
        "  v1 = n2*10000\n",
        "  print(\"Total = \" + str(v1))\n",
        "elif n1 == 1 and n3 >=5 and n3 <= 7 :\n",
        "  v2 = n2*25000\n",
        "  print(\"Total = \" + str(v2))\n",
        "elif n1 == 1 and n3 >= 8 and n3 <= 10 :\n",
        "  v3 = n2*35000\n",
        "  print(\"Total = \" + str(v3))\n",
        "elif n1 == 2 and n3 >= 1 and n3 <= 4 :\n",
        "  v4 = n2*10000*1.15\n",
        "  print(\"Total = \" + str(v4))\n",
        "elif n1 == 2 and n3 >=5 and n3 <= 7 :\n",
        "  v5 = n2*25000*1.15\n",
        "  print(\"Total = \" + str(v5))\n",
        "elif n1 == 2 and n3 >= 8 and n3 <= 10 :\n",
        "  v6 = n2*35000*1.15\n",
        "  print(\"Total = \" + str(v6))\n",
        "elif n1 == 3 and n3 >= 1 and n3 <= 4 :\n",
        "  v7 = n2*10000*1.25\n",
        "  print(\"Total = \" + str(v7))\n",
        "elif n1 == 3 and n3 >=5 and n3 <= 7 :\n",
        "  v8 = n2*25000*1.25\n",
        "  print(\"Total = \" + str(v8))\n",
        "elif n1 == 3 and n3 >= 8 and n3 <= 10 : \n",
        "  v9 = n2*35000*1.35\n",
        "  print(\"Total = \" + str(v9))\n",
        "else :\n",
        "  print(\"Valores invalidos\")\n",
        "  "
      ],
      "execution_count": 0,
      "outputs": [
        {
          "output_type": "stream",
          "text": [
            "Digite o Codigo do pais: 3\n",
            "Digite o peso: 2\n",
            "Digite o codigo do produto: 9\n",
            "Total = 94500.0\n"
          ],
          "name": "stdout"
        }
      ]
    },
    {
      "cell_type": "markdown",
      "metadata": {
        "id": "YcYZbLwowFWr",
        "colab_type": "text"
      },
      "source": [
        "13. Escreva um programa que calcule o quadrado e o cubo dos números de 0 a 10, e imprima os valores em forma de tabela. Número | Quadrado | Cubo"
      ]
    },
    {
      "cell_type": "code",
      "metadata": {
        "id": "OsW3wvM_wFWt",
        "colab_type": "code",
        "outputId": "f554bc36-1eb6-4eb5-d6dd-866ea91f968e",
        "colab": {
          "base_uri": "https://localhost:8080/",
          "height": 221
        }
      },
      "source": [
        "n = [0, 1, 2, 3, 4, 5, 6, 7, 8, 9, 10]\n",
        "print(\"Numero | Quadrado | Cubo\" )\n",
        "for item in n :\n",
        "  nq = float(item**2)\n",
        "  nc = float(item**3)\n",
        "  print(str(n[item]) + \"      |    \" + str(nq) + \"   |    \" + str(nc)) \n",
        "\n"
      ],
      "execution_count": 0,
      "outputs": [
        {
          "output_type": "stream",
          "text": [
            "Numero | Quadrado | Cubo\n",
            "0      |    0.0   |    0.0\n",
            "1      |    1.0   |    1.0\n",
            "2      |    4.0   |    8.0\n",
            "3      |    9.0   |    27.0\n",
            "4      |    16.0   |    64.0\n",
            "5      |    25.0   |    125.0\n",
            "6      |    36.0   |    216.0\n",
            "7      |    49.0   |    343.0\n",
            "8      |    64.0   |    512.0\n",
            "9      |    81.0   |    729.0\n",
            "10      |    100.0   |    1000.0\n"
          ],
          "name": "stdout"
        }
      ]
    },
    {
      "cell_type": "markdown",
      "metadata": {
        "id": "1D5jRpdswFWv",
        "colab_type": "text"
      },
      "source": [
        "14. Um funcionário de uma empresa recebe, anualmente, aumento salarial. Sabe-se que:\n",
        "\n",
        "- Esse funcionário foi contratado em 2005, com salário inicial de R\\\\$ 1.000,00.\n",
        "- Em 2006, ele recebeu aumento de 1,5% sobre seu salário inicial.\n",
        "- A partir de 2007 (inclusive), os aumentos salariais sempre corresponderam ao dobro do percentual do ano anterior.\n",
        "\n",
        "Faça um programa que determine o salário atual desse funcionário."
      ]
    },
    {
      "cell_type": "code",
      "metadata": {
        "id": "OS5B5GlMwFWw",
        "colab_type": "code",
        "outputId": "4efe96ea-8d1b-4503-e850-fe17f05485f6",
        "colab": {
          "base_uri": "https://localhost:8080/",
          "height": 289
        }
      },
      "source": [
        "a = [2005, 2006, 2007, 2008, 2009, 2010, 2011, 2012, 2013, 2014, 2015, 2016, 2017, 2018, 2019, 2020]\n",
        "s = 1000\n",
        "j = 0.75\n",
        "\n",
        "for na in a :\n",
        "  j = j*2\n",
        "  s = s + (s*(j/100))\n",
        "  print(str(s))\n"
      ],
      "execution_count": 0,
      "outputs": [
        {
          "output_type": "stream",
          "text": [
            "1015.0\n",
            "1045.45\n",
            "1108.1770000000001\n",
            "1241.1582400000002\n",
            "1539.0362176000003\n",
            "2277.7736020480006\n",
            "4464.436260014081\n",
            "13036.153879241117\n",
            "63094.984775527\n",
            "547664.4678515744\n",
            "8959790.694051756\n",
            "284204560.8153217\n",
            "17745732777.308685\n",
            "2198341376452.9998\n",
            "542462718053542.2\n",
            "2.671737378957306e+17\n"
          ],
          "name": "stdout"
        }
      ]
    },
    {
      "cell_type": "markdown",
      "metadata": {
        "id": "ensqcpGdwFWy",
        "colab_type": "text"
      },
      "source": [
        "15. Foi feita uma pesquisa para determinar o índice de mortalidade infantil em certo período. Faça um programa que:\n",
        "\n",
        "- Leia o número de crianças nascidas no período;\n",
        "- Identifique o sexo (M ou F) e o tempo de vida de cada criança nascida.\n",
        "\n",
        "O programa deve calcular e mostrar:\n",
        "\n",
        "- A porcentagem de crianças do sexo feminino mortas no período;\n",
        "- A porcentagem de crianças do sexo masculino mortas no período;\n",
        "- A porcentagem de crianças que viveram 24 meses ou menos no período."
      ]
    },
    {
      "cell_type": "code",
      "metadata": {
        "id": "t_ltFGVmwFWz",
        "colab_type": "code",
        "colab": {}
      },
      "source": [
        "n1 = float(input(\"Digite o numero de criacas nascidas: \"))"
      ],
      "execution_count": 0,
      "outputs": []
    },
    {
      "cell_type": "markdown",
      "metadata": {
        "id": "s6JynaTEwFW2",
        "colab_type": "text"
      },
      "source": [
        "16. Faça um programa que receba duas notas de seis alunos. Calcule e mostre:\n",
        "\n",
        "- A média aritmética das duas notas de cada aluno; e\n",
        "- A mensagem que está na tabela a seguir:\n",
        "- O total de alunos aprovados;\n",
        "- O total de alunos de exame;\n",
        "- O total de alunos reprovados;\n",
        "- A média da classe.\n",
        "\n",
        "| Média Aritmética | Situação       |\n",
        "|------------------|----------------|\n",
        "| Entre 0 e 29     | Reprovado      |\n",
        "| Entre 30 e 69    | Exame Especial |\n",
        "| Entre 70 e 100   | Aprovado       |\n"
      ]
    },
    {
      "cell_type": "code",
      "metadata": {
        "id": "xoBuKfznwFW3",
        "colab_type": "code",
        "colab": {}
      },
      "source": [
        "n1 = float(input(\"Digite a 1º nota do 1º aluno:\"))\n",
        "n2 = float(input(\"Digite a 2º nota do 1º aluno:\"))\n",
        "n3 = float(input(\"Digite a 1º nota do 2º aluno:\"))\n",
        "n4 = float(input(\"Digite a 2º nota do 2º aluno:\"))\n",
        "n5 = float(input(\"Digite a 1º nota do 3º aluno:\"))\n",
        "n6 = float(input(\"Digite a 2º nota do 3º aluno:\"))\n",
        "n7 = float(input(\"Digite a 1º nota do 4º aluno:\"))\n",
        "n8 = float(input(\"Digite a 2º nota do 4º aluno:\"))\n",
        "n9 = float(input(\"Digite a 1º nota do 5º aluno:\"))\n",
        "n10 = float(input(\"Digite a 2º nota do 5º aluno:\"))\n",
        "n11 = float(input(\"Digite a 1º nota do 6º aluno:\"))\n",
        "n12 = float(input(\"Digite a 2º nota do 6º aluno:\"))\n",
        "\n",
        "\n",
        "\n",
        "\n"
      ],
      "execution_count": 0,
      "outputs": []
    },
    {
      "cell_type": "markdown",
      "metadata": {
        "id": "S6FKv1q9wFW6",
        "colab_type": "text"
      },
      "source": [
        "17. Faça um programa para calcular a área de um triângulo e que não permita a entrada de dados inválidos, ou seja, medidas menores ou iguais a 0."
      ]
    },
    {
      "cell_type": "code",
      "metadata": {
        "id": "_RLBhAx7wFW6",
        "colab_type": "code",
        "colab": {
          "base_uri": "https://localhost:8080/",
          "height": 68
        },
        "outputId": "b1a3a9eb-b2f8-4656-b56f-fdcbaabf26a5"
      },
      "source": [
        "b = float(input(\"Base = \"))\n",
        "a = float(input(\"Altura = \"))\n",
        "area = (b+a)/2\n",
        "\n",
        "\n",
        "if area <= 0 or a <=0 or b <= 0 :\n",
        "  print(\"Valores invalidos\")\n",
        "else :  \n",
        "  print(\"Area do triangulo = \" +str(area))"
      ],
      "execution_count": 1,
      "outputs": [
        {
          "output_type": "stream",
          "text": [
            "Base = 0\n",
            "Altura = 0\n",
            "Valores invalidos\n"
          ],
          "name": "stdout"
        }
      ]
    },
    {
      "cell_type": "markdown",
      "metadata": {
        "id": "mNXKqq2iwFW9",
        "colab_type": "text"
      },
      "source": [
        "18. Faça um programa que leia um conjunto não determinado de valores e mostre o valor lido, seu quadrado, seu cubo e sua raiz quadrada. Finalize a entrada de dados com um valor negativo ou zero."
      ]
    },
    {
      "cell_type": "code",
      "metadata": {
        "id": "dbKA5RY9wFW-",
        "colab_type": "code",
        "colab": {
          "base_uri": "https://localhost:8080/",
          "height": 119
        },
        "outputId": "ef228863-4ffe-4942-df1a-a5a94dd53e05"
      },
      "source": [
        "n = [-1, 1, 2, 3, 0]\n",
        "print(\"Numero | Quadrado | Cubo    | Raiz Quadrada\")\n",
        "for item in n :\n",
        "  nq = float(item**2)\n",
        "  nc = float(item**3)\n",
        "  nr = float(item**1/2)\n",
        "  print(str(n[item]) + \"      |    \" + str(nq) + \"   |    \" + str(nc) + \"    |    \" +  str(nr)) \n",
        "\n"
      ],
      "execution_count": 9,
      "outputs": [
        {
          "output_type": "stream",
          "text": [
            "Numero | Quadrado | Cubo    | Raiz Quadrada\n",
            "0      |    1.0   |    -1.0    |    -0.5\n",
            "1      |    1.0   |    1.0    |    0.5\n",
            "2      |    4.0   |    8.0    |    1.0\n",
            "3      |    9.0   |    27.0    |    1.5\n",
            "-1      |    0.0   |    0.0    |    0.0\n"
          ],
          "name": "stdout"
        }
      ]
    },
    {
      "cell_type": "markdown",
      "metadata": {
        "id": "wwxCU46SwFXA",
        "colab_type": "text"
      },
      "source": [
        "19. Faça um programa que leia um número não determinado de pares de valores [m,n], todos inteiros e positivos, um par de cada vez, e que calcule e mostre a soma de todos os números inteiros entre m e n (inclusive). A digitação de pares terminará quando m for maior ou igual a n."
      ]
    },
    {
      "cell_type": "code",
      "metadata": {
        "id": "WqkvdULFwFXB",
        "colab_type": "code",
        "colab": {}
      },
      "source": [
        ""
      ],
      "execution_count": 0,
      "outputs": []
    },
    {
      "cell_type": "markdown",
      "metadata": {
        "id": "mnxiQGiFwFXE",
        "colab_type": "text"
      },
      "source": [
        "20. Faça um programa que receba vários números, calcule e mostre:\n",
        "\n",
        "    - A soma dos números digitados;\n",
        "    - A quantidade de números digitados;\n",
        "    - A média dos números digitados;\n",
        "    - O maior número digitado;\n",
        "    - O menor número digitado;\n",
        "    - A média dos números pares;\n",
        "    - A porcentagem dos números ímpares entre todos os números digitados.\n",
        "\n",
        "Finalize a entrada de dados com a digitação do número 0."
      ]
    },
    {
      "cell_type": "code",
      "metadata": {
        "id": "Hl-S7f8DwFXF",
        "colab_type": "code",
        "colab": {}
      },
      "source": [
        ""
      ],
      "execution_count": 0,
      "outputs": []
    }
  ]
}