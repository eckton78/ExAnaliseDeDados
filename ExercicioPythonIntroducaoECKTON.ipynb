{
  "nbformat": 4,
  "nbformat_minor": 0,
  "metadata": {
    "kernelspec": {
      "display_name": "Python 3",
      "language": "python",
      "name": "python3"
    },
    "language_info": {
      "codemirror_mode": {
        "name": "ipython",
        "version": 3
      },
      "file_extension": ".py",
      "mimetype": "text/x-python",
      "name": "python",
      "nbconvert_exporter": "python",
      "pygments_lexer": "ipython3",
      "version": "3.7.4"
    },
    "colab": {
      "name": "ExercicioPythonIntroducaoECKTON",
      "provenance": [],
      "collapsed_sections": []
    }
  },
  "cells": [
    {
      "cell_type": "markdown",
      "metadata": {
        "id": "6EDTI0_qx2y5",
        "colab_type": "text"
      },
      "source": [
        "# Bem-Vindo ao Mundo Python!"
      ]
    },
    {
      "cell_type": "markdown",
      "metadata": {
        "id": "FjHMLBhlx2y8",
        "colab_type": "text"
      },
      "source": [
        "## Variáveis e Tipos\n",
        "* Variáveis são **Locais de Memória**;\n",
        "* Os nomes de variáveis devem ser **mnemônicos**, ou seja, de **fácil memorização**;\n",
        "* Variáveis em Python são **\"Case-sensitive\"** e devem escritas com letras minúsculas, sem qualquer tipo de acentuação gráfica;\n",
        "* Nomes compostos de variáveis devem ser separados por subtraço, por exemplo: nome_variavel_composta;\n",
        "* Python é uma linguagem *dinamicamente tipada*, logo, não informamos o tipo de dados durante a declaração de cada variável;\n",
        "\n",
        "### Tipos de Dados Padrão\n",
        "Os tipos de dados primitivos do Python podem ser classificados como: numéricos, sequências, conjuntos e mapeamentos.\n",
        "\n",
        "*Tipos Numéricos*\n",
        "\n",
        "| Nome    | Descrição                    |  Versão               |\n",
        "|:--------|:-----------------------------|:----------------------|\n",
        "| int     | Números Inteiros             | Todas                 |\n",
        "| long    | Números inteiros Longos      | Python 2.x (Somente)  |\n",
        "| float   | Números de Ponto Flutuante   | Todas                 |\n",
        "| complex | Números Complexos            | Todas                 |\n",
        "\n",
        "*Sequências*\n",
        "\n",
        "| Nome         | Descrição                                                  |  Versão               |\n",
        "|:-------------|:-----------------------------------------------------------|:----------------------|\n",
        "| str          | Cadeia de Caracteres (String)                              | Todas                 |\n",
        "| bytes        | Sequência de números inteiros no intervalo de 0 a 255      | Python 3.x (Somente)  |\n",
        "| byte array   | Semelhante ao tipo bytes, porém, mutáveis                  | Python 3.x (Somente)  |\n",
        "| list         | Lista de itens geralmente homogêneos e mutáveis            | Todas                 |\n",
        "| tuple        | Sequência de itens heterogêneos e imutáveis                | Todas                 |\n",
        "\n",
        "*Conjuntos*\n",
        "\n",
        "| Nome       | Descrição                               |  Versão                |\n",
        "|:-----------|:----------------------------------------|:-----------------------|\n",
        "| set        | coleção não ordenada de objetos únicos  | Python 2.6 ou Superior |\n",
        "| frozen set | Semelhante ao tipo set, porém, imutável | Python 2.6 ou Superior |\n",
        "\n",
        "*Mapeamentos*\n",
        "\n",
        "| Nome       | Descrição                               |  Versão                |\n",
        "|:-----------|:----------------------------------------|:-----------------------|\n",
        "| dict       | Dicionários ou Array Associativos       | Todas                  |\n",
        "\n",
        "\n",
        "#### Objetos Mutáveis X Objetos Imutáveis\n",
        "De modo geral, os tipos de dados em Python podem ser diferenciados como mutáveis e imutáveis.\n",
        "\n",
        "- **Objetos Mutáveis:** o conteúdo pode ser alterado após sua criação;\n",
        "- **Objetos Imutáveis:** o conteúdo **não pode ser alterado** após sua criação;\n",
        "\n",
        "| Tipos Mutáveis       | Tipos Imutáveis                         |\n",
        "|:---------------------|:----------------------------------------|\n",
        "| array                | int, float, complex                     |\n",
        "| bytearray            | str                                     |\n",
        "| list                 | bytes                                   |\n",
        "| set                  | tuple                                   |\n",
        "| dict                 | frozenset                               |\n",
        "| -                    | bool                                    |"
      ]
    },
    {
      "cell_type": "code",
      "metadata": {
        "id": "Nk_L9o26x2y-",
        "colab_type": "code",
        "colab": {}
      },
      "source": [
        "# CONVERSÃO DE TIPO\n",
        "# Aprendendo Conversão de Tipo Com Exemplos\n",
        "\n",
        "# Números Inteiros\n",
        "valor_int_1 = int(2.7) \n",
        "print(valor_int_1) # Saída: 2   \n",
        "\n",
        "valor_int_2 = int(-3.9)\n",
        "print(valor_int_2) # Saída: -3   \n",
        "\n",
        "valor_int_3 = int(\"2\")\n",
        "print(valor_int_3) # Saída: 2  \n",
        "\n",
        "\n",
        "# Números de Ponto Flutuante\n",
        "valor_float_1 = float(7)\n",
        "print(valor_float_1) # Saída: 7.0\n",
        "\n",
        "valor_float_2 = float(\"4.5\")\n",
        "print(valor_float_2) # Saída: 4.5\n",
        "\n",
        "valor_float_4 = float(\"2.7E-2\")\n",
        "print(valor_float_4) # Saída: 0.027\n",
        "\n",
        "valor_float_5 = float(False)\n",
        "print(valor_float_5) # Saída: 0.0\n",
        "\n",
        "valor_float_6 = float(True)\n",
        "print(valor_float_6) # Saída: 1.0\n",
        "\n",
        "\n",
        "# Cadeia de Caracteres\n",
        "valor_string_1 = str(4.5)\n",
        "print(valor_string_1) # Saída: 4.5\n",
        "\n",
        "valor_string_2 = str([1, 2, 3, 4, 5])\n",
        "print(valor_string_2) # Saída: \"[1, 2, 3, 4, 5]\"\n",
        "\n",
        "\n",
        "# Tipos Lógicos (Booleanos)\n",
        "valor_bool_1 = bool(0)\n",
        "print(valor_bool_1) # Saída: False\n",
        "\n",
        "valor_bool_2 = bool(1)\n",
        "print(valor_bool_2) # Saída: True\n",
        "\n",
        "valor_bool_3 = bool([])\n",
        "print(valor_bool_3) # Saída: False - Lista Vazia\n",
        "\n",
        "valor_bool_4 = bool([False])\n",
        "print(valor_bool_4) # Saída: True - Lista Não Vazia\n",
        "\n",
        "valor_bool_5 = bool({})\n",
        "print(valor_bool_5) # Saída: False - Dicionário Vazio, o mesmo para Tupla\n",
        "\n",
        "valor_bool_6 = bool(\"\")\n",
        "print(valor_bool_6) # Saída: False - String Vazia\n",
        "\n",
        "valor_bool_7 = bool(\" \")\n",
        "print(valor_bool_7) # Saída: True - String Não Vazia\n",
        "\n",
        "valor_bool_8 = bool(None)\n",
        "print(valor_bool_8) # Saída: False\n",
        "\n",
        "valor_bool_9 = bool(len)\n",
        "print(valor_bool_9) # Saída: True\n",
        "\n",
        "# Listas e Conjuntos\n",
        "conjunto = set([1, 2])\n",
        "lista = list(conjunto)\n",
        "print(conjunto) # Saída: {1, 2}\n",
        "print(lista)    # Saída: [1, 2]\n",
        "\n",
        "valor_lista_1 = list({0: \"Python\", 1: \"R\"}) # dict: Lista de chaves\n",
        "print(valor_lista_1) # Saída: [0, 1]\n",
        "\n",
        "tupla = tuple(lista)\n",
        "print(tupla) # Saída: (1, 2)\n",
        "\n",
        "valor_lista_2 = list(\"ABC\")\n",
        "print(valor_lista_2) # Saída: ['A', 'B', 'C']"
      ],
      "execution_count": 0,
      "outputs": []
    },
    {
      "cell_type": "markdown",
      "metadata": {
        "id": "fZh8MYsrx2zE",
        "colab_type": "text"
      },
      "source": [
        "## Exercício 1\n",
        "*Calculando o IMC*\n",
        "\n",
        "O Índice de Massa Corporal (IMC) é uma medida internacional usada para calcular se uma pessoa está em seu peso ideal.\n",
        "O cálculo do IMC é determinado pela divisão da massa do indivíduo em quilogramas pelo quadrado de sua altura em metros.\n",
        "\n",
        "\n",
        "\n",
        "$$IMC=\\frac{massa}{(altura * altura)}$$\n",
        "\n",
        "\n",
        "\n",
        "Escreva um programa que leia do usuário sua altura e peso e calcule o seu IMC.\n"
      ]
    },
    {
      "cell_type": "code",
      "metadata": {
        "id": "DXSNq3DTx2zG",
        "colab_type": "code",
        "outputId": "fb670afb-3c5b-4a6b-cce0-b3755aedfc45",
        "colab": {
          "base_uri": "https://localhost:8080/",
          "height": 68
        }
      },
      "source": [
        "# TODO: Complete o Código Abaixo\n",
        "altura = float( input(\"Altura: \"))\n",
        "peso = float(input(\"Peso: \"))\n",
        "\n",
        "IMC = str(peso / (altura * altura))\n",
        "print(\"IMC: \" + IMC)"
      ],
      "execution_count": 0,
      "outputs": [
        {
          "output_type": "stream",
          "text": [
            "Altura: 2\n",
            "Peso: 50\n",
            "IMC: 12.5\n"
          ],
          "name": "stdout"
        }
      ]
    },
    {
      "cell_type": "markdown",
      "metadata": {
        "id": "1CqHIkgGx2zJ",
        "colab_type": "text"
      },
      "source": [
        "## Operadores\n",
        "\n",
        "*Operadores Numéricos*\n",
        "\n",
        "| Operador | Descrição       |\n",
        "|:---------|:----------------|\n",
        "| +        | Adição          |\n",
        "| -        | Subtração       |\n",
        "| *        | Multiplicação   |\n",
        "| /        | Divisão         |\n",
        "| **       | Expoente        |\n",
        "| %        | Módulo          |\n",
        "| //       | Divisão de Piso |\n",
        "\n",
        "\n",
        "*Operadores de Comparação*\n",
        "\n",
        "| Operador | Descrição       |\n",
        "|:---------|:----------------|\n",
        "| ==       | Igual           |\n",
        "| !=       | Diferente       |\n",
        "| >        | Maior           |\n",
        "| <        | Menor           |\n",
        "| >=       | Maior Igual     |\n",
        "| <=       | Menor Igual     |\n",
        "\n",
        "\n",
        "*Operadores Lógicos*\n",
        "\n",
        "| Operador | Descrição       |\n",
        "|:---------|:----------------|\n",
        "| and      | AND lógico      |\n",
        "| or       | OR lógico       |\n",
        "| not      | NOT lógico      |\n",
        "\n",
        "*Caracteres Especiais*\n",
        "\n",
        "| Operador | Descrição       |\n",
        "|:---------|:----------------|\n",
        "| #        | Comentário      |\n",
        "| \\n       | Nova Linha      |\n"
      ]
    },
    {
      "cell_type": "markdown",
      "metadata": {
        "id": "pnX_KUnbx2zK",
        "colab_type": "text"
      },
      "source": [
        "## Exercícios"
      ]
    },
    {
      "cell_type": "markdown",
      "metadata": {
        "id": "1oz7Wa0Ax2zL",
        "colab_type": "text"
      },
      "source": [
        "1. Escreva um algoritmo que imprima na tela: Olá Mundo!"
      ]
    },
    {
      "cell_type": "code",
      "metadata": {
        "id": "SV7c_AkKx2zM",
        "colab_type": "code",
        "outputId": "5c7bda58-46a4-4e85-be18-fffcc8e2ba10",
        "colab": {
          "base_uri": "https://localhost:8080/",
          "height": 34
        }
      },
      "source": [
        "print (\"hello world!\")"
      ],
      "execution_count": 0,
      "outputs": [
        {
          "output_type": "stream",
          "text": [
            "hello world!\n"
          ],
          "name": "stdout"
        }
      ]
    },
    {
      "cell_type": "markdown",
      "metadata": {
        "id": "6s605AOGx2zP",
        "colab_type": "text"
      },
      "source": [
        "2. Escreva um programa que imprima seu nome na tela."
      ]
    },
    {
      "cell_type": "code",
      "metadata": {
        "id": "A3LhKDw2x2zQ",
        "colab_type": "code",
        "outputId": "cf6ddeff-8ec5-4a17-a009-acc086d8426b",
        "colab": {
          "base_uri": "https://localhost:8080/",
          "height": 34
        }
      },
      "source": [
        "print (\"Eckton Junior\")"
      ],
      "execution_count": 0,
      "outputs": [
        {
          "output_type": "stream",
          "text": [
            "Eckton Junior\n"
          ],
          "name": "stdout"
        }
      ]
    },
    {
      "cell_type": "markdown",
      "metadata": {
        "id": "_ZsHuJ-3x2zV",
        "colab_type": "text"
      },
      "source": [
        "3. O que o código a seguir imprime?\n",
        "\n",
        "```python\n",
        "print(\"*\\n**\\n***\\n****\\n*****\")\n",
        "```"
      ]
    },
    {
      "cell_type": "code",
      "metadata": {
        "id": "uKKW02k-x2zX",
        "colab_type": "code",
        "outputId": "90a0078a-4b04-4f43-f23d-60081dddfab0",
        "colab": {
          "base_uri": "https://localhost:8080/",
          "height": 119
        }
      },
      "source": [
        "print(\"*\\n**\\n***\\n****\\n*****\"  + \"\\n\" + \"Quebras de linha\")"
      ],
      "execution_count": 11,
      "outputs": [
        {
          "output_type": "stream",
          "text": [
            "*\n",
            "**\n",
            "***\n",
            "****\n",
            "*****\n",
            "Quebras de linha\n"
          ],
          "name": "stdout"
        }
      ]
    },
    {
      "cell_type": "markdown",
      "metadata": {
        "id": "-Wfj7UbOx2za",
        "colab_type": "text"
      },
      "source": [
        "4. O que aparece na janela do console, quando cada uma das instruções abaixo são executadas, para: x = 2 e y = 3? Execute cada uma das linhas abaixos e, se necessário, faça os devidos ajustes no código.\n",
        "    1. *print(“x = ” + x);*\n",
        "    2. *print(“O valor de x + x é ” + (x + x));*\n",
        "    3. *print(“x = ”);*\n",
        "    4. *print((x + y) + “ = “ + (y + x));*\n"
      ]
    },
    {
      "cell_type": "code",
      "metadata": {
        "id": "TtkSFhB1x2zb",
        "colab_type": "code",
        "outputId": "3731496d-6144-4f6d-9997-fc6a523662f6",
        "colab": {
          "base_uri": "https://localhost:8080/",
          "height": 85
        }
      },
      "source": [
        "x = 2\n",
        "y = 3\n",
        "\n",
        "print(\"x = \"  + str(x))\n",
        "print(\"O valor de x + x é \" + str(x + x))\n",
        "print(\"x = \")\n",
        "print(\"(x + y) = \" + str(y + x))"
      ],
      "execution_count": 0,
      "outputs": [
        {
          "output_type": "stream",
          "text": [
            "x = 2\n",
            "O valor de x + x é 4\n",
            "x = \n",
            "(x + y) = 5\n"
          ],
          "name": "stdout"
        }
      ]
    },
    {
      "cell_type": "markdown",
      "metadata": {
        "id": "xVmIWw_9x2zd",
        "colab_type": "text"
      },
      "source": [
        "5. Escreva um algoritmo que imprima na tela a seguinte mensagem:\n",
        "\n",
        "> A programação é aprendida escrevendo programas - \n",
        "> Brian Kernighan\n"
      ]
    },
    {
      "cell_type": "code",
      "metadata": {
        "id": "wqUMwuf3x2ze",
        "colab_type": "code",
        "outputId": "d22a23a5-3498-4a63-a1c1-ad424a3a3855",
        "colab": {
          "base_uri": "https://localhost:8080/",
          "height": 34
        }
      },
      "source": [
        "print (\"A programação é aprendida escrevendo programas - Brian Kernighan\")"
      ],
      "execution_count": 0,
      "outputs": [
        {
          "output_type": "stream",
          "text": [
            "A programação é aprendida escrevendo programas - Brian Kernighan\n"
          ],
          "name": "stdout"
        }
      ]
    },
    {
      "cell_type": "markdown",
      "metadata": {
        "id": "eKGsqyaXx2zh",
        "colab_type": "text"
      },
      "source": [
        "6. Crie um algoritmo que imprima o produto entre os números 25 e 27"
      ]
    },
    {
      "cell_type": "code",
      "metadata": {
        "id": "wUp1T1G0x2zi",
        "colab_type": "code",
        "outputId": "03183d76-5951-488f-c777-11a4c9c6e53a",
        "colab": {
          "base_uri": "https://localhost:8080/",
          "height": 34
        }
      },
      "source": [
        "print(25*27)"
      ],
      "execution_count": 0,
      "outputs": [
        {
          "output_type": "stream",
          "text": [
            "675\n"
          ],
          "name": "stdout"
        }
      ]
    },
    {
      "cell_type": "markdown",
      "metadata": {
        "id": "zERMPvlzx2zm",
        "colab_type": "text"
      },
      "source": [
        "7. Crie um algoritmo que imprima a média aritmética entre os números 4, 12, 15."
      ]
    },
    {
      "cell_type": "code",
      "metadata": {
        "id": "GLPrakFRx2zn",
        "colab_type": "code",
        "outputId": "79cf2fc0-ea9c-461f-c58e-387e482c497f",
        "colab": {
          "base_uri": "https://localhost:8080/",
          "height": 34
        }
      },
      "source": [
        "print(\"Media = \" + str((4+12+14)/3))"
      ],
      "execution_count": 19,
      "outputs": [
        {
          "output_type": "stream",
          "text": [
            "Media = 10.0\n"
          ],
          "name": "stdout"
        }
      ]
    },
    {
      "cell_type": "markdown",
      "metadata": {
        "id": "i8PjReTjx2zs",
        "colab_type": "text"
      },
      "source": [
        "8. Faça um programa que leia um número inteiro e mostre-o na tela da seguinte forma: \n",
        "\n",
        "> O número inteiro digitado foi 4."
      ]
    },
    {
      "cell_type": "code",
      "metadata": {
        "id": "nhbGV--Fx2zt",
        "colab_type": "code",
        "outputId": "6be15c9f-91fb-43fd-a78a-7f48056b57b8",
        "colab": {
          "base_uri": "https://localhost:8080/",
          "height": 51
        }
      },
      "source": [
        "num = input(\"Nº: \")\n",
        "print(\"O número inteiro digitado foi \" + num)"
      ],
      "execution_count": 0,
      "outputs": [
        {
          "output_type": "stream",
          "text": [
            "Nº: 5\n",
            "O número inteiro digitado foi 5\n"
          ],
          "name": "stdout"
        }
      ]
    },
    {
      "cell_type": "markdown",
      "metadata": {
        "id": "rzn_xSwJx2zv",
        "colab_type": "text"
      },
      "source": [
        "9. Faça um programa que leia e imprima dois números inteiros na tela."
      ]
    },
    {
      "cell_type": "code",
      "metadata": {
        "id": "hFp_ijlVx2zw",
        "colab_type": "code",
        "outputId": "fdb72684-3084-4448-a528-476f2cd770ac",
        "colab": {
          "base_uri": "https://localhost:8080/",
          "height": 68
        }
      },
      "source": [
        "num1 = input(\"N1º: \")\n",
        "num2 = input(\"N2º: \")\n",
        "print(\"N1º = \" + num1 + \" N2º = \" + num2)"
      ],
      "execution_count": 0,
      "outputs": [
        {
          "output_type": "stream",
          "text": [
            "N1º: 6\n",
            "N2º: 4\n",
            "N1º = 6 N2º = 4\n"
          ],
          "name": "stdout"
        }
      ]
    },
    {
      "cell_type": "markdown",
      "metadata": {
        "id": "4yWEPiijx2z0",
        "colab_type": "text"
      },
      "source": [
        "10. Faça um programa que leia um número inteiro e imprima seu número sucessor e antecessor."
      ]
    },
    {
      "cell_type": "code",
      "metadata": {
        "id": "SE4Z5TUdx2z1",
        "colab_type": "code",
        "outputId": "62b26a91-09e1-4f49-fc2b-93f807c6dd9b",
        "colab": {
          "base_uri": "https://localhost:8080/",
          "height": 68
        }
      },
      "source": [
        "num = int(input('Nº = '))\n",
        "print(\"Sucessor:\" + str(num +1) + \"\\n\" + \"Antecessor:\" + str(num -1))\n",
        "\n"
      ],
      "execution_count": 0,
      "outputs": [
        {
          "output_type": "stream",
          "text": [
            "Nº = 10\n",
            "Sucessor:11\n",
            "Antecessor:9\n"
          ],
          "name": "stdout"
        }
      ]
    },
    {
      "cell_type": "markdown",
      "metadata": {
        "id": "2DZM5Judx2z4",
        "colab_type": "text"
      },
      "source": [
        "11. Faça um programa que leia o nome, endereço e telefone de um usuário e imprima na tela."
      ]
    },
    {
      "cell_type": "code",
      "metadata": {
        "id": "oMwiUSfqx2z5",
        "colab_type": "code",
        "outputId": "c6979544-413b-4db9-d785-cd202d856ea0",
        "colab": {
          "base_uri": "https://localhost:8080/",
          "height": 85
        }
      },
      "source": [
        "nome = input (\"Nome: \")\n",
        "endereco = input (\"Endereco: \")\n",
        "telefone = input (\"Telefone: \")\n",
        "print(\"Nome: \" + nome + \",\" + \" Endereco: \" + endereco + \",\" + \" Telefone: \" + telefone )"
      ],
      "execution_count": 20,
      "outputs": [
        {
          "output_type": "stream",
          "text": [
            "Nome: Eckton\n",
            "Endereco: Rua Teste\n",
            "Telefone: (31)99999-9999\n",
            "Nome: Eckton, Endereco: Rua Teste, Telefone: (31)99999-9999\n"
          ],
          "name": "stdout"
        }
      ]
    },
    {
      "cell_type": "markdown",
      "metadata": {
        "id": "iv-jHJd2x2z7",
        "colab_type": "text"
      },
      "source": [
        "12. Faça um programa que leia e multiplique dois números inteiros."
      ]
    },
    {
      "cell_type": "code",
      "metadata": {
        "id": "DjxZuOpCx2z8",
        "colab_type": "code",
        "outputId": "38b7cf0e-3b99-49f1-9e55-65a17ea53700",
        "colab": {
          "base_uri": "https://localhost:8080/",
          "height": 68
        }
      },
      "source": [
        "num1 = int(input(\"N1º = \"))\n",
        "num2 = int(input(\"N2º = \"))\n",
        "\n",
        "print(\"Valor multiplicado dos numeros = \" + str(num1 * num2))"
      ],
      "execution_count": 0,
      "outputs": [
        {
          "output_type": "stream",
          "text": [
            "N1º = 10\n",
            "N2º = 10\n",
            "Valor multiplicado dos numeros = 100\n"
          ],
          "name": "stdout"
        }
      ]
    },
    {
      "cell_type": "markdown",
      "metadata": {
        "id": "V8_XOfwVx2z-",
        "colab_type": "text"
      },
      "source": [
        "13. Faça um programa que leia um número real e imprima a terça parte deste número."
      ]
    },
    {
      "cell_type": "code",
      "metadata": {
        "id": "mjmJB-x8x2z_",
        "colab_type": "code",
        "outputId": "b0a262cf-d32a-419e-aa02-654eb8f04fc5",
        "colab": {
          "base_uri": "https://localhost:8080/",
          "height": 51
        }
      },
      "source": [
        "num1 = int(input(\"N1º = \"))\n",
        "\n",
        "print(\"1/3 = \" + str(num1 / 3))"
      ],
      "execution_count": 0,
      "outputs": [
        {
          "output_type": "stream",
          "text": [
            "N1º = 3\n",
            "1/3 = 1.0\n"
          ],
          "name": "stdout"
        }
      ]
    },
    {
      "cell_type": "markdown",
      "metadata": {
        "id": "wTrL46KZx20B",
        "colab_type": "text"
      },
      "source": [
        "14. Faça um programa que leia dois números inteiros e imprima o dividendo, divisor, quociente e resto da divisão"
      ]
    },
    {
      "cell_type": "code",
      "metadata": {
        "id": "Xw7BitE-x20D",
        "colab_type": "code",
        "outputId": "3c2476ac-caea-4602-a49d-98c0c98612b7",
        "colab": {
          "base_uri": "https://localhost:8080/",
          "height": 119
        }
      },
      "source": [
        "dividendo = input(\"Dividendo = \") \n",
        "divisor =  input(\"Divisor = \")\n",
        "\n",
        "quociente = float(dividendo)/float(divisor)\n",
        "resto = float(dividendo) % float(divisor)\n",
        "print (\"Dividendo: \" + str(dividendo) + \"\\n\" + \"Divisor: \" + str(divisor) + \"\\n\" + \"Quociente: \" + str(quociente) + \"\\n\" + \"Resto: \" + str(resto))"
      ],
      "execution_count": 0,
      "outputs": [
        {
          "output_type": "stream",
          "text": [
            "Dividendo = 10\n",
            "Divisor = 5\n",
            "Dividendo: 10\n",
            "Divisor: 5\n",
            "Quociente: 2.0\n",
            "Resto: 0.0\n"
          ],
          "name": "stdout"
        }
      ]
    },
    {
      "cell_type": "markdown",
      "metadata": {
        "id": "TS5w55qSx20I",
        "colab_type": "text"
      },
      "source": [
        "15. Escreva um programa que solicite do usuário dois números, e imprima o resultado da soma, subtração, multiplicação e divisão."
      ]
    },
    {
      "cell_type": "code",
      "metadata": {
        "id": "eYiPJfK2x20J",
        "colab_type": "code",
        "outputId": "8fab66d2-d87e-404a-b80b-0e92bb35e92c",
        "colab": {
          "base_uri": "https://localhost:8080/",
          "height": 119
        }
      },
      "source": [
        "num1 = int(input(\"N1º = \"))\n",
        "num2 = int(input(\"N2º = \"))\n",
        "\n",
        "print (\"Soma: \" + str(num1 + num2) + \"\\n\" + \"Subtracao = \" + str(num1-num2) + \"\\n\" + \"Multiplicacao = \" + str(num1*num2) + \"\\n\" + \"Divisao = \" + str(num1/num2))"
      ],
      "execution_count": 0,
      "outputs": [
        {
          "output_type": "stream",
          "text": [
            "N1º = 8\n",
            "N2º = 4\n",
            "Soma: 12\n",
            "Subtracao = 4\n",
            "Multiplicacao = 32\n",
            "Divisao = 2.0\n"
          ],
          "name": "stdout"
        }
      ]
    },
    {
      "cell_type": "markdown",
      "metadata": {
        "id": "vsgwbfiOx20M",
        "colab_type": "text"
      },
      "source": [
        "16. Faça um programa que leia quatro números inteiros, calcule e mostre a soma desses números."
      ]
    },
    {
      "cell_type": "code",
      "metadata": {
        "id": "klxgReDzx20M",
        "colab_type": "code",
        "outputId": "8493bb3d-92f1-479a-f3a9-de68d1d003fb",
        "colab": {
          "base_uri": "https://localhost:8080/",
          "height": 102
        }
      },
      "source": [
        "num1 = int(input(\"N1º = \"))\n",
        "num2 = int(input(\"N2º = \"))\n",
        "num3 = int(input(\"N3º = \"))\n",
        "num4 = int(input(\"N4º = \"))\n",
        "\n",
        "print (\"Soma Total = \" + str(num1+num2+num3+num4))"
      ],
      "execution_count": 0,
      "outputs": [
        {
          "output_type": "stream",
          "text": [
            "N1º = 1\n",
            "N2º = 2\n",
            "N3º = 3\n",
            "N4º = 4\n",
            "Soma Total = 10\n"
          ],
          "name": "stdout"
        }
      ]
    },
    {
      "cell_type": "markdown",
      "metadata": {
        "id": "D9sa3pXFx20P",
        "colab_type": "text"
      },
      "source": [
        "17. Faça um programa que receba três notas, calcule e mostre a média aritmética."
      ]
    },
    {
      "cell_type": "code",
      "metadata": {
        "id": "s5_QfnoUx20Q",
        "colab_type": "code",
        "outputId": "3b3b626b-3a24-4d1e-ead1-64c5fc4b3907",
        "colab": {
          "base_uri": "https://localhost:8080/",
          "height": 85
        }
      },
      "source": [
        "num1 = int(input(\"1º Nota = \"))\n",
        "num2 = int(input(\"2º Nota = \"))\n",
        "num3 = int(input(\"3º Nota = \"))\n",
        "\n",
        "print (\"Media das notas = \" + str((num1+num2+num3)/3))"
      ],
      "execution_count": 0,
      "outputs": [
        {
          "output_type": "stream",
          "text": [
            "1º Nota = 10\n",
            "2º Nota = 8\n",
            "3º Nota = 6\n",
            "Media das notas = 8.0\n"
          ],
          "name": "stdout"
        }
      ]
    },
    {
      "cell_type": "markdown",
      "metadata": {
        "id": "8r9vWwKqx20S",
        "colab_type": "text"
      },
      "source": [
        "18. Faça um programa que receba três notas e seus respectivos pesos, calcule e mostre a média ponderada."
      ]
    },
    {
      "cell_type": "code",
      "metadata": {
        "id": "438fI0lTx20T",
        "colab_type": "code",
        "outputId": "d11bfa77-d74b-448a-e22f-c15d3385ba6b",
        "colab": {
          "base_uri": "https://localhost:8080/",
          "height": 136
        }
      },
      "source": [
        "n1 = int(input(\"1º Nota = \"))\n",
        "n2 = int(input(\"2º Nota = \"))\n",
        "n3 = int(input(\"3º Nota = \"))\n",
        "p1 = int(input(\"1º Peso = \"))\n",
        "p2 = int(input(\"2º Peso = \"))\n",
        "p3 = int(input(\"3º Peso = \"))\n",
        "mp = ((float(n1*p1) + float(n2*p2) + float(n3*p3)) / float(p1+p2+p3))\n",
        "\n",
        "print(\"Media Ponderada =  \" + str(mp)) "
      ],
      "execution_count": 0,
      "outputs": [
        {
          "output_type": "stream",
          "text": [
            "1º Nota = 10\n",
            "2º Nota = 8\n",
            "3º Nota = 6\n",
            "1º Peso = 2\n",
            "2º Peso = 3\n",
            "3º Peso = 4\n",
            "Media Ponderada =  7.555555555555555\n"
          ],
          "name": "stdout"
        }
      ]
    },
    {
      "cell_type": "markdown",
      "metadata": {
        "id": "fuK4NM6Sx20W",
        "colab_type": "text"
      },
      "source": [
        "19. Faça um programa que receba o salário de um funcionário, calcule e mostre o novo salário, sabendo-se que este sofreu um aumento de 25%."
      ]
    },
    {
      "cell_type": "code",
      "metadata": {
        "id": "irpd7T1gx20Y",
        "colab_type": "code",
        "outputId": "472d1b2c-b7f1-4765-c966-4652946b76ff",
        "colab": {
          "base_uri": "https://localhost:8080/",
          "height": 51
        }
      },
      "source": [
        "num1 = int(input(\"Salario = \"))\n",
        "ns = float(num1*1.25)\n",
        "\n",
        "print(\"Novo Salario = \" + str(ns) )\n"
      ],
      "execution_count": 0,
      "outputs": [
        {
          "output_type": "stream",
          "text": [
            "Salario = 1000\n",
            "Novo Salario = 1250.0\n"
          ],
          "name": "stdout"
        }
      ]
    },
    {
      "cell_type": "markdown",
      "metadata": {
        "id": "vsmKowBEx20b",
        "colab_type": "text"
      },
      "source": [
        "20. Faça um programa que receba o salário de um funcionário e o percentual de aumento, calcule e mostre o valor do aumento e o novo salário. "
      ]
    },
    {
      "cell_type": "code",
      "metadata": {
        "id": "dYxOqhkNx20c",
        "colab_type": "code",
        "outputId": "9886a1cb-1755-426d-e8f0-4bc9fbb65008",
        "colab": {
          "base_uri": "https://localhost:8080/",
          "height": 85
        }
      },
      "source": [
        "num1 = int(input(\"Salario = \"))\n",
        "aumento = float(input(\"Aumento = \"))\n",
        "va = float((num1*aumento)-num1)\n",
        "ns = float(num1*aumento)\n",
        "\n",
        "print(\"Aumento = \" + str(va) + \"\\n\" + \"Novo Salario = \" + str(ns))"
      ],
      "execution_count": 0,
      "outputs": [
        {
          "output_type": "stream",
          "text": [
            "Salario = 1000\n",
            "Aumento = 1.25\n",
            "Aumento = 250.0\n",
            "Novo Salario = 1250.0\n"
          ],
          "name": "stdout"
        }
      ]
    },
    {
      "cell_type": "markdown",
      "metadata": {
        "id": "Ov-E1xUcx20f",
        "colab_type": "text"
      },
      "source": [
        "21. Faça um programa que receba o salário base de um funcionário, calcule e mostre o salário a receber, sabendo-se que o funcionário tem gratificação de 5% sobre o salário base e paga imposto de 7% também sobre o salário base."
      ]
    },
    {
      "cell_type": "code",
      "metadata": {
        "id": "nUKXxTh8x20f",
        "colab_type": "code",
        "outputId": "fe96581e-0ea4-46e4-b3f0-12400431bef2",
        "colab": {
          "base_uri": "https://localhost:8080/",
          "height": 51
        }
      },
      "source": [
        "num1 = float(input(\"Salario = \"))\n",
        "grat = num1*0.05\n",
        "imp = num1*0.07\n",
        "ns = num1+grat-imp\n",
        "\n",
        "print(\"Salario a receber = \" + str(ns))"
      ],
      "execution_count": 0,
      "outputs": [
        {
          "output_type": "stream",
          "text": [
            "Salario = 1000\n",
            "Salario a receber = 980.0\n"
          ],
          "name": "stdout"
        }
      ]
    },
    {
      "cell_type": "markdown",
      "metadata": {
        "id": "w5Tm9mALx20i",
        "colab_type": "text"
      },
      "source": [
        "22. Faça um programa que receba o salário base de um funcionário, calcule e mostre seu salário a receber, sabendo-se que o funcionário tem gratificação de R$ 50,00 e paga imposto de 10% sobre o salário base."
      ]
    },
    {
      "cell_type": "code",
      "metadata": {
        "id": "eD_PGg_Rx20j",
        "colab_type": "code",
        "colab": {
          "base_uri": "https://localhost:8080/",
          "height": 51
        },
        "outputId": "834d83c0-3875-482a-fdc3-1aceeaecd0ac"
      },
      "source": [
        "num1 = float(input(\"Salario = \"))\n",
        "grat = num1+50\n",
        "imp = num1*0.1\n",
        "ns = grat-imp\n",
        "\n",
        "print(\"Salario a receber = \" + str(ns))"
      ],
      "execution_count": 23,
      "outputs": [
        {
          "output_type": "stream",
          "text": [
            "Salario = 2000\n",
            "Salario a receber = 1850.0\n"
          ],
          "name": "stdout"
        }
      ]
    },
    {
      "cell_type": "markdown",
      "metadata": {
        "id": "mI89iZ8Tx20m",
        "colab_type": "text"
      },
      "source": [
        "23. Faça um programa que receba o valor de um depósito e o valor da taxa de juros, calcule e mostre o valor do rendimento e o valor total depois do rendimento."
      ]
    },
    {
      "cell_type": "code",
      "metadata": {
        "id": "3KGZ-c8px20n",
        "colab_type": "code",
        "colab": {
          "base_uri": "https://localhost:8080/",
          "height": 102
        },
        "outputId": "3d9ca58a-6e2a-4882-be06-469717d12112"
      },
      "source": [
        "dep = float(input(\"Valor a ser depositado = \"))\n",
        "tj = float(input(\"Taxa de juros = \"))\n",
        "m = int(input(\"Tempo(Meses)\"))\n",
        "vr = ((dep*tj)-dep)*m\n",
        "vt = dep+vr\n",
        "\n",
        "print(\"Rendimento = \" + str(vr) + \"\\n\" + \"Novo Total = \" + str(vt))a"
      ],
      "execution_count": 30,
      "outputs": [
        {
          "output_type": "stream",
          "text": [
            "Valor a ser depositado = 1000\n",
            "Taxa de juros = 1.2\n",
            "Tempo(Meses)7\n",
            "Rendimento = 1400.0\n",
            "Novo Total = 2400.0\n"
          ],
          "name": "stdout"
        }
      ]
    },
    {
      "cell_type": "markdown",
      "metadata": {
        "id": "vJp_MR9ox20r",
        "colab_type": "text"
      },
      "source": [
        "24. Faça um programa que calcule e mostre a área de um triângulo. Sabe-se que: \n",
        "> Área = (base * altura) / 2."
      ]
    },
    {
      "cell_type": "code",
      "metadata": {
        "id": "peTiJZtHx20s",
        "colab_type": "code",
        "colab": {
          "base_uri": "https://localhost:8080/",
          "height": 68
        },
        "outputId": "1eb44e23-2941-43d7-ae55-ec2701fde85c"
      },
      "source": [
        "b = float(input(\"Base = \"))\n",
        "a = float(input(\"Altura = \"))\n",
        "area = (b+a)/2\n",
        "\n",
        "print(\"Area do triangulo = \" +str(area))\n"
      ],
      "execution_count": 31,
      "outputs": [
        {
          "output_type": "stream",
          "text": [
            "Base = 2\n",
            "Altura = 4\n",
            "Area do triangulo = 3.0\n"
          ],
          "name": "stdout"
        }
      ]
    },
    {
      "cell_type": "markdown",
      "metadata": {
        "id": "Q5AeQPQSx20y",
        "colab_type": "text"
      },
      "source": [
        "**25**. Escreva um programa que receba como entrada o raio de um círculo e imprima o diâmetro, a circunferência e a área. Para isso, utilize as fórmulas: diâmetro = 2r; circunferência = 2πr, área = πr²."
      ]
    },
    {
      "cell_type": "code",
      "metadata": {
        "id": "i8VUIRb-x200",
        "colab_type": "code",
        "colab": {
          "base_uri": "https://localhost:8080/",
          "height": 85
        },
        "outputId": "ee9003e3-8417-46e1-fb1d-899179680f64"
      },
      "source": [
        "r = float(input(\"Raio = \"))\n",
        "d = 2*r\n",
        "c = 2*(r*3.14)\n",
        "a = 3.14*(r**2)\n",
        "\n",
        "print(\"Diametro = \" + str(d) + \"\\n\" + \"Circunferencia = \" + str(c) + \"\\n\" + \"Area = \" + str(a))"
      ],
      "execution_count": 40,
      "outputs": [
        {
          "output_type": "stream",
          "text": [
            "Raio = 4\n",
            "Diametro = 8.0\n",
            "Circunferencia = 25.12\n",
            "Area = 50.24\n"
          ],
          "name": "stdout"
        }
      ]
    },
    {
      "cell_type": "markdown",
      "metadata": {
        "id": "BMnaG2fdx202",
        "colab_type": "text"
      },
      "source": [
        "26. Faça um programa que receba um número positivo e maior que zero, calcule e \n",
        "mostre:\n",
        "    1. o número digitado ao quadrado;\n",
        "    2. o número digitado ao cubo;\n",
        "    3. a raiz quadrada do número digitado.\n"
      ]
    },
    {
      "cell_type": "code",
      "metadata": {
        "id": "v-DEZoOox202",
        "colab_type": "code",
        "colab": {
          "base_uri": "https://localhost:8080/",
          "height": 85
        },
        "outputId": "ce96c70f-2bba-4c8f-d824-ccb3e3588ace"
      },
      "source": [
        "n = float(input(\"Numero = \"))\n",
        "q = n**2\n",
        "c = n**3\n",
        "r = n**(1/2)\n",
        "\n",
        "print(\"Quadrado = \" + str(q) + \"\\n\" + \"Cubo = \" + str(c) + \"\\n\" + \"Raiz = \" + str(r))"
      ],
      "execution_count": 39,
      "outputs": [
        {
          "output_type": "stream",
          "text": [
            "Numero = 4\n",
            "Quadrado = 16.0\n",
            "Cubo = 64.0\n",
            "Raiz = 2.0\n"
          ],
          "name": "stdout"
        }
      ]
    },
    {
      "cell_type": "markdown",
      "metadata": {
        "id": "uoe1N7tWx208",
        "colab_type": "text"
      },
      "source": [
        "27. Faça um programa que receba dois números maiores que zero, calcule e mostre um elevado ao outro."
      ]
    },
    {
      "cell_type": "code",
      "metadata": {
        "id": "-Krn3uHbx20_",
        "colab_type": "code",
        "colab": {
          "base_uri": "https://localhost:8080/",
          "height": 68
        },
        "outputId": "ee6bc74d-e313-462f-c26a-c2acef6b2b1d"
      },
      "source": [
        "num1 = float(input(\"Primeiro Numero = \"))\n",
        "num2 = float(input(\"Segundo Numero = \"))\n",
        "\n",
        "p = num1**num2\n",
        "\n",
        "print(\"Total dos numeros elevados = \" + str(p))"
      ],
      "execution_count": 42,
      "outputs": [
        {
          "output_type": "stream",
          "text": [
            "Primeiro Numero = 4\n",
            "Segundo Numero = 5\n",
            "Total dos numeros elevados = 1024.0\n"
          ],
          "name": "stdout"
        }
      ]
    },
    {
      "cell_type": "markdown",
      "metadata": {
        "id": "_JJrcFNbx21D",
        "colab_type": "text"
      },
      "source": [
        "28. Sabe-se que: pé = 12 polegadas; 1 jarda = 3 pés e 1 milha = 1,760 jarda. Faça um programa que receba uma medida em pés, faça as conversões a seguir e mostre os resultados.\n",
        "    1. polegadas;\n",
        "    2. jardas;\n",
        "    3. milhas.\n"
      ]
    },
    {
      "cell_type": "code",
      "metadata": {
        "id": "HGRZv2Jsx21E",
        "colab_type": "code",
        "colab": {
          "base_uri": "https://localhost:8080/",
          "height": 85
        },
        "outputId": "95038e76-0aae-440c-e1da-920edd1967ce"
      },
      "source": [
        "pes = float(input(\"Digite o numero de pes = \"))\n",
        "\n",
        "polegada = pes*12\n",
        "jarda = pes/3\n",
        "milha = jarda/1760\n",
        "\n",
        "print(\"Convertido para polegadas = \" + str(polegada) + \"\\n\" + \"Convertido para jardas = \" + str(jarda) + \"\\n\" + \"Convertido para milhas = \" + str(milha))"
      ],
      "execution_count": 47,
      "outputs": [
        {
          "output_type": "stream",
          "text": [
            "Digite o numero de pes = 4\n",
            "Convertido para polegadas = 48.0\n",
            "Convertido para jardas = 1.3333333333333333\n",
            "Convertido para milhas = 0.0007575757575757576\n"
          ],
          "name": "stdout"
        }
      ]
    },
    {
      "cell_type": "markdown",
      "metadata": {
        "id": "_zvaIMtVx21G",
        "colab_type": "text"
      },
      "source": [
        "29. Escreva um programa que receba como entrada um número de 5 dígitos, separe o número em dígitos individuais e os imprima separados por 3 espaços cada um. Por exemplo, se o usuário digitar 42339, o programa deverá imprimir: 4    2    3    3.   Dica: utilize as operações de divisão e módulo para extrair cada dígito do número."
      ]
    },
    {
      "cell_type": "code",
      "metadata": {
        "id": "eFydDyFwx21H",
        "colab_type": "code",
        "colab": {
          "base_uri": "https://localhost:8080/",
          "height": 51
        },
        "outputId": "cecf5208-1b0d-41e4-a839-e4e019ac6bc3"
      },
      "source": [
        "num = int(input(\"Digite o numero = \"))\n",
        "n = str(num)\n",
        "\n",
        "print(format(n[0]) + \" - \" + format(n[1]) + \" - \" + format(n[2]) + \" - \" + format(n[3]) + \" - \"  + format(n[4]))"
      ],
      "execution_count": 51,
      "outputs": [
        {
          "output_type": "stream",
          "text": [
            "Digite o numero = 12345\n",
            "1 - 2 - 3 - 4 - 5\n"
          ],
          "name": "stdout"
        }
      ]
    }
  ]
}